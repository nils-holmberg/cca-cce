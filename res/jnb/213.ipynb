{
  "cells": [
    {
      "cell_type": "markdown",
      "metadata": {
        "id": "CDBBKqICUCud"
      },
      "source": [
        "# Linear regression using scikit-learn\n",
        "\n",
        "In the previous notebook, we presented the parametrization of a linear model.\n",
        "During the exercise, you saw that varying parameters will give different models\n",
        "that will fit better or worse the data. To evaluate quantitatively this\n",
        "goodness of fit, you implemented a so-called metric.\n",
        "\n",
        "When doing machine learning, you are interested in selecting the model which\n",
        "will minimize the error on the data available the most.\n",
        "From the previous exercise, we could implement a brute-force approach,\n",
        "varying the weights and intercept and select the model with the lowest error.\n",
        "\n",
        "Hopefully, this problem of finding the best parameters values (i.e. that\n",
        "result in the lowest error) can be solved without the need to check every\n",
        "potential parameter combination. Indeed, this problem has a closed-form\n",
        "solution: the best parameter values can be found by solving an equation. This\n",
        "avoids the need for brute-force search. This strategy is implemented in\n",
        "scikit-learn."
      ],
      "id": "CDBBKqICUCud"
    },
    {
      "cell_type": "code",
      "source": [
        "from google.colab import drive\n",
        "drive.mount('/content/drive')\n",
        "df = \"/content/drive/MyDrive/Colab Notebooks/sfac-py/penguins_regression.csv\""
      ],
      "metadata": {
        "colab": {
          "base_uri": "https://localhost:8080/"
        },
        "id": "GBxfEbE-U0nO",
        "outputId": "1b67296e-dae8-41d1-a2c3-51e564cb935d"
      },
      "id": "GBxfEbE-U0nO",
      "execution_count": 1,
      "outputs": [
        {
          "output_type": "stream",
          "name": "stdout",
          "text": [
            "Mounted at /content/drive\n"
          ]
        }
      ]
    },
    {
      "cell_type": "code",
      "execution_count": 2,
      "metadata": {
        "id": "MPYF8mEiUCuf"
      },
      "outputs": [],
      "source": [
        "import pandas as pd\n",
        "\n",
        "#penguins = pd.read_csv(\"../datasets/penguins_regression.csv\")\n",
        "penguins = pd.read_csv(df)\n",
        "feature_name = \"Flipper Length (mm)\"\n",
        "target_name = \"Body Mass (g)\"\n",
        "data, target = penguins[[feature_name]], penguins[target_name]"
      ],
      "id": "MPYF8mEiUCuf"
    },
    {
      "cell_type": "markdown",
      "metadata": {
        "id": "tw3dfnCBUCug"
      },
      "source": [
        "<div class=\"admonition note alert alert-info\">\n",
        "<p class=\"first admonition-title\" style=\"font-weight: bold;\">Note</p>\n",
        "<p class=\"last\">If you want a deeper overview regarding this dataset, you can refer to the\n",
        "Appendix - Datasets description section at the end of this MOOC.</p>\n",
        "</div>"
      ],
      "id": "tw3dfnCBUCug"
    },
    {
      "cell_type": "code",
      "execution_count": 3,
      "metadata": {
        "colab": {
          "base_uri": "https://localhost:8080/"
        },
        "id": "_ABwMnEHUCug",
        "outputId": "e74f9b4d-7f64-4405-9e49-0a8051eebdb9"
      },
      "outputs": [
        {
          "output_type": "execute_result",
          "data": {
            "text/plain": [
              "LinearRegression()"
            ]
          },
          "metadata": {},
          "execution_count": 3
        }
      ],
      "source": [
        "from sklearn.linear_model import LinearRegression\n",
        "\n",
        "linear_regression = LinearRegression()\n",
        "linear_regression.fit(data, target)"
      ],
      "id": "_ABwMnEHUCug"
    },
    {
      "cell_type": "markdown",
      "metadata": {
        "id": "KR7_BCVVUCuh"
      },
      "source": [
        "The instance `linear_regression` will store the parameter values in the\n",
        "attributes `coef_` and `intercept_`. We can check what the optimal model\n",
        "found is:"
      ],
      "id": "KR7_BCVVUCuh"
    },
    {
      "cell_type": "code",
      "execution_count": 4,
      "metadata": {
        "colab": {
          "base_uri": "https://localhost:8080/"
        },
        "id": "3ANmMccEUCuh",
        "outputId": "cc071cc7-9efc-477d-edea-2de2427002e1"
      },
      "outputs": [
        {
          "output_type": "execute_result",
          "data": {
            "text/plain": [
              "49.68556640610011"
            ]
          },
          "metadata": {},
          "execution_count": 4
        }
      ],
      "source": [
        "weight_flipper_length = linear_regression.coef_[0]\n",
        "weight_flipper_length"
      ],
      "id": "3ANmMccEUCuh"
    },
    {
      "cell_type": "code",
      "execution_count": 5,
      "metadata": {
        "colab": {
          "base_uri": "https://localhost:8080/"
        },
        "id": "p92xyGApUCuh",
        "outputId": "5f729a32-b1cf-48a2-96ae-63b8c9ca735b"
      },
      "outputs": [
        {
          "output_type": "execute_result",
          "data": {
            "text/plain": [
              "-5780.831358077066"
            ]
          },
          "metadata": {},
          "execution_count": 5
        }
      ],
      "source": [
        "intercept_body_mass = linear_regression.intercept_\n",
        "intercept_body_mass"
      ],
      "id": "p92xyGApUCuh"
    },
    {
      "cell_type": "markdown",
      "metadata": {
        "id": "vsucY1PnUCui"
      },
      "source": [
        "We will use the weight and intercept to plot the model found using the\n",
        "scikit-learn."
      ],
      "id": "vsucY1PnUCui"
    },
    {
      "cell_type": "code",
      "execution_count": 6,
      "metadata": {
        "id": "OShUCLLbUCui"
      },
      "outputs": [],
      "source": [
        "import numpy as np\n",
        "\n",
        "flipper_length_range = np.linspace(data.min(), data.max(), num=300)\n",
        "predicted_body_mass = (\n",
        "    weight_flipper_length * flipper_length_range + intercept_body_mass)"
      ],
      "id": "OShUCLLbUCui"
    },
    {
      "cell_type": "code",
      "execution_count": 7,
      "metadata": {
        "colab": {
          "base_uri": "https://localhost:8080/",
          "height": 295
        },
        "id": "k1Nsfc9nUCuj",
        "outputId": "1fa4d2e5-51ea-414f-a477-b212a39fd2b0"
      },
      "outputs": [
        {
          "output_type": "display_data",
          "data": {
            "text/plain": [
              "<Figure size 432x288 with 1 Axes>"
            ],
            "image/png": "[encoded data removed]"
          },
          "metadata": {
            "needs_background": "light"
          }
        }
      ],
      "source": [
        "import matplotlib.pyplot as plt\n",
        "import seaborn as sns\n",
        "\n",
        "sns.scatterplot(x=data[feature_name], y=target, color=\"black\", alpha=0.5)\n",
        "plt.plot(flipper_length_range, predicted_body_mass)\n",
        "_ = plt.title(\"Model using LinearRegression from scikit-learn\")"
      ],
      "id": "k1Nsfc9nUCuj"
    },
    {
      "cell_type": "markdown",
      "metadata": {
        "id": "mNIQ4gERUCuj"
      },
      "source": [
        "In the solution of the previous exercise, we implemented a function to\n",
        "compute the goodness of fit of a model. Indeed, we mentioned two metrics: (i)\n",
        "the mean squared error and (ii) the mean absolute error. These metrics are\n",
        "implemented in scikit-learn and we do not need to use our own implementation.\n",
        "\n",
        "We can first compute the mean squared error."
      ],
      "id": "mNIQ4gERUCuj"
    },
    {
      "cell_type": "code",
      "execution_count": null,
      "metadata": {
        "id": "6uFtufxYUCuk"
      },
      "outputs": [],
      "source": [
        "from sklearn.metrics import mean_squared_error\n",
        "\n",
        "inferred_body_mass = linear_regression.predict(data)\n",
        "model_error = mean_squared_error(target, inferred_body_mass)\n",
        "print(f\"The mean squared error of the optimal model is {model_error:.2f}\")"
      ],
      "id": "6uFtufxYUCuk"
    },
    {
      "cell_type": "markdown",
      "metadata": {
        "id": "3IAFHTPlUCuk"
      },
      "source": [
        "A linear regression model minimizes the mean squared error on the training\n",
        "set. This means that the parameters obtained after the fit (i.e. `coef_` and\n",
        "`intercept_`) are the optimal parameters that minimizes the mean squared\n",
        "error. In other words, any other choice of parameters will yield a model with\n",
        "a higher mean squared error on the training set.\n",
        "\n",
        "However, the mean squared error is difficult to interpret. The mean absolute\n",
        "error is more intuitive since it provides an error in the same unit as the\n",
        "one of the target."
      ],
      "id": "3IAFHTPlUCuk"
    },
    {
      "cell_type": "code",
      "execution_count": null,
      "metadata": {
        "id": "ZNLFFIWAUCuk"
      },
      "outputs": [],
      "source": [
        "from sklearn.metrics import mean_absolute_error\n",
        "\n",
        "model_error = mean_absolute_error(target, inferred_body_mass)\n",
        "print(f\"The mean absolute error of the optimal model is {model_error:.2f} g\")"
      ],
      "id": "ZNLFFIWAUCuk"
    },
    {
      "cell_type": "markdown",
      "metadata": {
        "lines_to_next_cell": 2,
        "id": "6o33jN7XUCuk"
      },
      "source": [
        "A mean absolute error of 313 means that in average, our model make an error\n",
        "of ± 313 grams when predicting the body mass of a penguin given its flipper\n",
        "length."
      ],
      "id": "6o33jN7XUCuk"
    },
    {
      "cell_type": "markdown",
      "metadata": {
        "id": "Ir0BRr5jUCul"
      },
      "source": [
        "In this notebook, you saw how to train a linear regression model using\n",
        "scikit-learn."
      ],
      "id": "Ir0BRr5jUCul"
    }
  ],
  "metadata": {
    "jupytext": {
      "main_language": "python"
    },
    "kernelspec": {
      "display_name": "Python 3",
      "name": "python3"
    },
    "colab": {
      "provenance": [],
      "collapsed_sections": []
    }
  },
  "nbformat": 4,
  "nbformat_minor": 5
}