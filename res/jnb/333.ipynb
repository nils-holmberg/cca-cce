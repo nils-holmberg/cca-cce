{
  "nbformat": 4,
  "nbformat_minor": 0,
  "metadata": {
    "colab": {
      "provenance": [],
      "collapsed_sections": []
    },
    "kernelspec": {
      "name": "python3",
      "display_name": "Python 3"
    },
    "language_info": {
      "name": "python"
    }
  },
  "cells": [
    {
      "cell_type": "code",
      "source": [
        "# Import pandas for dataframe \n",
        "# Import pprint for printing the outcomes \n",
        "import pandas as pd \n",
        "from pprint import pprint \n",
        "\n",
        "# get dataset from web url\n",
        "df = pd.read_csv('https://raw.githubusercontent.com/okanbulut/blog/master/data_and_codes/train_rel_2.tsv')\n",
        "# write a dataset to csv file\n",
        "df.to_csv(\"csv/train_rel_2.tsv\", sep=\"\\t\", header=True, index=False)\n"
      ],
      "metadata": {
        "id": "SQB5ak3gws6e"
      },
      "execution_count": null,
      "outputs": []
    },
    {
      "cell_type": "code",
      "execution_count": null,
      "metadata": {
        "id": "mMr1zokWrdHE"
      },
      "outputs": [],
      "source": [
        "# Import train_rel_2.tsv into Python\n",
        "with open('csv/train_rel_2.tsv', 'r') as f:\n",
        "    lines = f.readlines()\n",
        "    columns = lines[0].split('\\t')\n",
        "    data = []\n",
        "    response_id= []\n",
        "    score = []\n",
        "    for line in lines[1:]:\n",
        "        temp = line.split('\\t')\n",
        "        if temp[1] == '1':\n",
        "            data.append(temp[-1])\n",
        "            response_id.append(int(temp[0]))\n",
        "            score.append(int(temp[2]))\n",
        "        else: \n",
        "            None\n",
        "\n",
        "# Construct a dataframe (\"doc\") which includes the response_id, responses, and the score        \n",
        "doc = pd.DataFrame(list(zip(response_id, data, score)))\n",
        "doc.columns = ['id', 'response', 'score']"
      ]
    },
    {
      "cell_type": "code",
      "source": [
        "# Preview the first response in the data set\n",
        "print('Sample response 1:')\n",
        "pprint(doc.response.values[0]) \n",
        "\n",
        "# Preview the first 5 lines in the data set\n",
        "doc.head(5)"
      ],
      "metadata": {
        "id": "8zmEOhcJrzlE"
      },
      "execution_count": null,
      "outputs": []
    },
    {
      "cell_type": "code",
      "source": [
        "# Activate CountVectorizer\n",
        "from sklearn.feature_extraction.text import CountVectorizer\n",
        "\n",
        "# Count Vectorizer\n",
        "vect = CountVectorizer()  \n",
        "vects = vect.fit_transform(doc.response)\n",
        "\n",
        "# Select the first five rows from the data set\n",
        "td = pd.DataFrame(vects.todense()).iloc[:5]  \n",
        "td.columns = vect.get_feature_names()\n",
        "term_document_matrix = td.T\n",
        "term_document_matrix.columns = ['Doc '+str(i) for i in range(1, 6)]\n",
        "term_document_matrix['total_count'] = term_document_matrix.sum(axis=1)\n",
        "\n",
        "# Top 25 words \n",
        "term_document_matrix = term_document_matrix.sort_values(by ='total_count',ascending=False)[:25] \n",
        "\n",
        "# Print the first 10 rows \n",
        "print(term_document_matrix.drop(columns=['total_count']).head(10))"
      ],
      "metadata": {
        "id": "XDvJZx4fr7fj"
      },
      "execution_count": null,
      "outputs": []
    },
    {
      "cell_type": "code",
      "source": [
        "term_document_matrix['total_count'].plot.bar()"
      ],
      "metadata": {
        "id": "pmItd7m1vAMB"
      },
      "execution_count": null,
      "outputs": []
    },
    {
      "cell_type": "code",
      "source": [
        "# Locate the and to in the documents\n",
        "term_document_matrix.loc[['the', 'to']].T"
      ],
      "metadata": {
        "id": "A1rb0QOkvGN_"
      },
      "execution_count": null,
      "outputs": []
    },
    {
      "cell_type": "code",
      "source": [
        "term_document_matrix.drop(columns=['total_count']).T.plot.scatter(x='the', y='to')"
      ],
      "metadata": {
        "id": "jGiIkVAevUre"
      },
      "execution_count": null,
      "outputs": []
    },
    {
      "cell_type": "code",
      "source": [
        "# Activate math\n",
        "import math\n",
        "\n",
        "# Define a cosine similarity function\n",
        "def cosine_similarity(a,b):\n",
        "    \"compute cosine similarity of v1 to v2: (a dot b)/{||a||*||b||)\"\n",
        "    sumxx, sumxy, sumyy = 0, 0, 0\n",
        "    for i in range(len(a)):\n",
        "        x = a[i]; y = b[i]\n",
        "        sumxx += x*x\n",
        "        sumyy += y*y\n",
        "        sumxy += x*y\n",
        "    return sumxy/math.sqrt(sumxx*sumyy)"
      ],
      "metadata": {
        "id": "GyvbJWv7vfKw"
      },
      "execution_count": null,
      "outputs": []
    },
    {
      "cell_type": "code",
      "source": [
        "# Activate numpy\n",
        "import numpy as np \n",
        "\n",
        "# Save the similarity index between the documents\n",
        "def pair(s):\n",
        "    for i, v1 in enumerate(s):\n",
        "        for j in range(i+1, len(s)):\n",
        "            yield [v1, s[j]]\n",
        "\n",
        "dic={} \n",
        "for (a,b) in list(pair(['Doc 1', 'Doc 2', 'Doc 3', 'Doc 4', 'Doc 5'])):\n",
        "  dic[(a,b)] = cosine_similarity(term_document_matrix[a].tolist(), term_document_matrix[b].tolist())\n",
        "\n",
        "# Print the cosine similarity index\n",
        "pprint(dic)"
      ],
      "metadata": {
        "id": "LSIbJqfsvoWI"
      },
      "execution_count": null,
      "outputs": []
    },
    {
      "cell_type": "code",
      "source": [
        "documents= ['Doc 1', 'Doc 2', 'Doc 3', 'Doc 4', 'Doc 5']\n",
        "final_df = pd.DataFrame(np.asarray([[(dic[(x,y)] if (x,y) in dic else 0) for y in documents] for x in documents]))\n",
        "final_df.columns =  documents\n",
        "final_df.index = documents \n",
        "\n",
        "import matplotlib.pyplot as plt\n",
        "fig, ax = plt.subplots()\n",
        "ax.set_xticks(np.arange(len(documents)))\n",
        "ax.set_yticks(np.arange(len(documents)))\n",
        "ax.set_xticklabels(documents)\n",
        "ax.set_yticklabels(documents)\n",
        "ax.matshow(final_df, cmap='seismic')\n",
        "for (i, j), z in np.ndenumerate(final_df):\n",
        "  if z != 0 :\n",
        "    ax.text(j, i, '{:0.2f}'.format(z), ha='center', va='center',\n",
        "            bbox=dict(boxstyle='round', facecolor='white', edgecolor='0.3'))\n",
        "  else:\n",
        "    None\n",
        "fig.suptitle('Cosine Similarity Index between the Documents')\n",
        "plt.show()\n",
        "\n"
      ],
      "metadata": {
        "id": "tfAV03uVvvdT"
      },
      "execution_count": null,
      "outputs": []
    }
  ]
}