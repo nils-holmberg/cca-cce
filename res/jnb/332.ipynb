{
  "nbformat": 4,
  "nbformat_minor": 0,
  "metadata": {
    "colab": {
      "provenance": [],
      "collapsed_sections": []
    },
    "kernelspec": {
      "name": "python3",
      "display_name": "Python 3"
    },
    "language_info": {
      "name": "python"
    }
  },
  "cells": [
    {
      "cell_type": "markdown",
      "source": [
        "![bag of words, bow](https://okan.cloud/posts/2021-04-08-text-vectorization-using-python-term-document-matrix/bow.png)"
      ],
      "metadata": {
        "id": "OsvlRDYHsH8e"
      }
    },
    {
      "cell_type": "code",
      "execution_count": 1,
      "metadata": {
        "id": "NTTQCtLHp-Pv",
        "colab": {
          "base_uri": "https://localhost:8080/"
        },
        "outputId": "0054dff0-65c3-4f38-8084-a2af0e56dbab"
      },
      "outputs": [
        {
          "output_type": "stream",
          "name": "stdout",
          "text": [
            "   hello  omg  pony  she  there  went  why\n",
            "0      1    0     0    0      1     0    1\n",
            "1      1    1     1    0      0     0    0\n",
            "2      0    1     0    1      1     1    0\n"
          ]
        },
        {
          "output_type": "stream",
          "name": "stderr",
          "text": [
            "/usr/local/lib/python3.7/dist-packages/sklearn/utils/deprecation.py:87: FutureWarning: Function get_feature_names is deprecated; get_feature_names is deprecated in 1.0 and will be removed in 1.2. Please use get_feature_names_out instead.\n",
            "  warnings.warn(msg, category=FutureWarning)\n"
          ]
        }
      ],
      "source": [
        "import pandas as pd\n",
        "from sklearn.feature_extraction.text import CountVectorizer\n",
        "\n",
        "docs = ['why hello there', 'omg hello pony', 'she went there? omg']\n",
        "vec = CountVectorizer()\n",
        "X = vec.fit_transform(docs)\n",
        "df = pd.DataFrame(X.toarray(), columns=vec.get_feature_names())\n",
        "print(df)\n"
      ]
    },
    {
      "cell_type": "code",
      "source": [],
      "metadata": {
        "id": "gMAoBQRRrJUb"
      },
      "execution_count": null,
      "outputs": []
    }
  ]
}