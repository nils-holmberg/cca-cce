{
  "cells": [
    {
      "cell_type": "markdown",
      "id": "ec294da9",
      "metadata": {
        "id": "ec294da9"
      },
      "source": [
        "[home](https://nils-holmberg.github.io/sfac-py/web/210927-sci/)\n",
        "\n",
        "# day 1: getting started with python\n",
        "- overview of day 1\n",
        "- section 1.2.1 python syntax\n",
        "    - [variables and data types](#variables)\n",
        "    - [lists and sequence types](#lists)\n",
        "    - [loops and flow control](#loops)\n",
        "- section 1.2.2 functions\n",
        "    - [functions and modules](#functions)\n",
        "- section 1.2.3 files\n",
        "    - [files and directories](#files)\n",
        "\n",
        "# section: 1.2.1: python syntax\n",
        "- variables, flow control, con"
      ]
    },
    {
      "cell_type": "code",
      "execution_count": null,
      "id": "4e8cad1d",
      "metadata": {
        "id": "4e8cad1d",
        "outputId": "75d9280a-ce50-4983-c878-9f422845d976"
      },
      "outputs": [
        {
          "name": "stdout",
          "output_type": "stream",
          "text": [
            "Hello Jupyter !\n"
          ]
        }
      ],
      "source": [
        "print(\"Hello Jupyter !\")"
      ]
    },
    {
      "cell_type": "markdown",
      "id": "5d1eb6ef",
      "metadata": {
        "id": "5d1eb6ef"
      },
      "source": [
        "In Jupyter/Collaboratory, just typing the name of a variable in the cell prints its representation:"
      ]
    },
    {
      "cell_type": "code",
      "execution_count": null,
      "id": "3652fb3c",
      "metadata": {
        "id": "3652fb3c",
        "outputId": "9519a0c5-d618-4463-c45c-95fdbc4fa16d"
      },
      "outputs": [
        {
          "data": {
            "text/plain": [
              "'Hello again !'"
            ]
          },
          "execution_count": 2,
          "metadata": {},
          "output_type": "execute_result"
        }
      ],
      "source": [
        "message = \"Hello again !\"\n",
        "message"
      ]
    },
    {
      "cell_type": "code",
      "execution_count": null,
      "id": "ca2efa78",
      "metadata": {
        "id": "ca2efa78",
        "outputId": "e0870782-c443-45ca-f4da-c5b3403661c8"
      },
      "outputs": [
        {
          "name": "stdout",
          "output_type": "stream",
          "text": [
            "No comment\n"
          ]
        }
      ],
      "source": [
        "# A 'hash' symbol denotes a comment\n",
        "# This is a comment. Anything after the 'hash' symbol on the line is ignored by the Python interpreter\n",
        "\n",
        "print(\"No comment\")  # comment"
      ]
    },
    {
      "cell_type": "markdown",
      "id": "9a608752",
      "metadata": {
        "id": "9a608752"
      },
      "source": [
        "<a id='variables'></a>\n",
        "## Variables and data types\n",
        "### Integers, floats, strings"
      ]
    },
    {
      "cell_type": "code",
      "execution_count": null,
      "id": "21680da4",
      "metadata": {
        "id": "21680da4"
      },
      "outputs": [],
      "source": [
        "a = 5"
      ]
    },
    {
      "cell_type": "code",
      "execution_count": null,
      "id": "bcee36cc",
      "metadata": {
        "id": "bcee36cc",
        "outputId": "201fad44-0798-463e-86db-c1d421268ee9"
      },
      "outputs": [
        {
          "data": {
            "text/plain": [
              "5"
            ]
          },
          "execution_count": 5,
          "metadata": {},
          "output_type": "execute_result"
        }
      ],
      "source": [
        "a"
      ]
    },
    {
      "cell_type": "code",
      "execution_count": null,
      "id": "191b4926",
      "metadata": {
        "id": "191b4926",
        "outputId": "4a1ed6c7-0cb6-44a4-f7c9-d4f768a6cb79"
      },
      "outputs": [
        {
          "data": {
            "text/plain": [
              "int"
            ]
          },
          "execution_count": 6,
          "metadata": {},
          "output_type": "execute_result"
        }
      ],
      "source": [
        "type(a)"
      ]
    },
    {
      "cell_type": "markdown",
      "id": "cfb9dd73",
      "metadata": {
        "id": "cfb9dd73"
      },
      "source": [
        "Adding a decimal point creates a `float`"
      ]
    },
    {
      "cell_type": "code",
      "execution_count": null,
      "id": "4b8fb8f1",
      "metadata": {
        "id": "4b8fb8f1"
      },
      "outputs": [],
      "source": [
        "b = 5.0"
      ]
    },
    {
      "cell_type": "code",
      "execution_count": null,
      "id": "b6270dcd",
      "metadata": {
        "id": "b6270dcd",
        "outputId": "6f41b380-d8d5-4cd3-862b-1a3940a4865d"
      },
      "outputs": [
        {
          "data": {
            "text/plain": [
              "5.0"
            ]
          },
          "execution_count": 8,
          "metadata": {},
          "output_type": "execute_result"
        }
      ],
      "source": [
        "b"
      ]
    },
    {
      "cell_type": "code",
      "execution_count": null,
      "id": "6be3c8a5",
      "metadata": {
        "id": "6be3c8a5",
        "outputId": "0ac2bf2f-0afc-4141-83f3-01006e78c1f2"
      },
      "outputs": [
        {
          "data": {
            "text/plain": [
              "float"
            ]
          },
          "execution_count": 9,
          "metadata": {},
          "output_type": "execute_result"
        }
      ],
      "source": [
        "type(b)"
      ]
    },
    {
      "cell_type": "markdown",
      "id": "75acadc0",
      "metadata": {
        "id": "75acadc0"
      },
      "source": [
        "`int` and `float` are collectively called 'numeric' types\n",
        "\n",
        "(There are also other numeric types like `hex` for hexidemical and `complex` for complex numbers)"
      ]
    },
    {
      "cell_type": "markdown",
      "id": "05c84729",
      "metadata": {
        "tags": [
          "challenge"
        ],
        "id": "05c84729"
      },
      "source": [
        "## Challenge - Types\n",
        "\n",
        "What is the **type** of the variable `letters` defined below ?\n",
        "\n",
        "`letters = \"ABACBS\"`\n",
        "\n",
        "* A) `int`\n",
        "* B) `str`\n",
        "* C) `float`\n",
        "* D) `text`\n",
        "\n",
        "Write some code the outputs the type - paste your answer into the Etherpad."
      ]
    },
    {
      "cell_type": "markdown",
      "id": "20d50fc2",
      "metadata": {
        "tags": [
          "solution"
        ],
        "id": "20d50fc2"
      },
      "source": [
        "## Solution\n",
        "\n",
        "Option B - `str`."
      ]
    },
    {
      "cell_type": "code",
      "execution_count": null,
      "id": "a4d438cd",
      "metadata": {
        "tags": [
          "solution"
        ],
        "id": "a4d438cd",
        "outputId": "595e2d27-fe5f-4b4c-c3b6-cf67aea94c00"
      },
      "outputs": [
        {
          "data": {
            "text/plain": [
              "str"
            ]
          },
          "execution_count": 10,
          "metadata": {},
          "output_type": "execute_result"
        }
      ],
      "source": [
        "letters = \"ABACBS\"\n",
        "type(letters)"
      ]
    },
    {
      "cell_type": "markdown",
      "id": "4012d9c4",
      "metadata": {
        "id": "4012d9c4"
      },
      "source": [
        "### Strings"
      ]
    },
    {
      "cell_type": "code",
      "execution_count": null,
      "id": "cdd7726d",
      "metadata": {
        "id": "cdd7726d"
      },
      "outputs": [],
      "source": [
        "some_words = \"Python3 strings are Unicode (UTF-8) ❤❤❤ 😸 蛇\""
      ]
    },
    {
      "cell_type": "code",
      "execution_count": null,
      "id": "5eaa1d6b",
      "metadata": {
        "id": "5eaa1d6b",
        "outputId": "c9951303-4204-4db4-c4db-d269bd9a110d"
      },
      "outputs": [
        {
          "data": {
            "text/plain": [
              "'Python3 strings are Unicode (UTF-8) ❤❤❤ 😸 蛇'"
            ]
          },
          "execution_count": 12,
          "metadata": {},
          "output_type": "execute_result"
        }
      ],
      "source": [
        "some_words"
      ]
    },
    {
      "cell_type": "code",
      "execution_count": null,
      "id": "3845df8d",
      "metadata": {
        "id": "3845df8d",
        "outputId": "f7cac2c5-7945-45ef-9f8f-a92ed6da98ab"
      },
      "outputs": [
        {
          "data": {
            "text/plain": [
              "str"
            ]
          },
          "execution_count": 13,
          "metadata": {},
          "output_type": "execute_result"
        }
      ],
      "source": [
        "type(some_words)"
      ]
    },
    {
      "cell_type": "markdown",
      "id": "5f30244e",
      "metadata": {
        "id": "5f30244e"
      },
      "source": [
        "The variable `some_words` is of type `str`, short for \"string\". Strings hold\n",
        "sequences of characters, which can be letters, numbers, punctuation\n",
        "or more exotic forms of text (even emoji!)."
      ]
    },
    {
      "cell_type": "markdown",
      "id": "2323ed71",
      "metadata": {
        "id": "2323ed71"
      },
      "source": [
        "## Operators\n",
        "\n",
        "We can perform mathematical calculations in Python using the basic operators:\n",
        "\n",
        "`+`  `-`  `*`  `/`  `%`  `**`"
      ]
    },
    {
      "cell_type": "code",
      "execution_count": null,
      "id": "f46cc8d5",
      "metadata": {
        "id": "f46cc8d5",
        "outputId": "ae0a7b7d-1f3d-423f-da06-3309d6a8df8d"
      },
      "outputs": [
        {
          "data": {
            "text/plain": [
              "4"
            ]
          },
          "execution_count": 14,
          "metadata": {},
          "output_type": "execute_result"
        }
      ],
      "source": [
        "2 + 2  # Addition"
      ]
    },
    {
      "cell_type": "code",
      "execution_count": null,
      "id": "77fe362e",
      "metadata": {
        "id": "77fe362e",
        "outputId": "346cc41d-5db9-4971-a04d-fc01b289ed4a"
      },
      "outputs": [
        {
          "data": {
            "text/plain": [
              "42"
            ]
          },
          "execution_count": 15,
          "metadata": {},
          "output_type": "execute_result"
        }
      ],
      "source": [
        "6 * 7  # Multiplication"
      ]
    },
    {
      "cell_type": "code",
      "execution_count": null,
      "id": "258bced8",
      "metadata": {
        "id": "258bced8",
        "outputId": "f6a59c02-f6d6-46bd-d10e-4d4548f372d4"
      },
      "outputs": [
        {
          "data": {
            "text/plain": [
              "65536"
            ]
          },
          "execution_count": 16,
          "metadata": {},
          "output_type": "execute_result"
        }
      ],
      "source": [
        "2 ** 16  # Power"
      ]
    },
    {
      "cell_type": "code",
      "execution_count": null,
      "id": "997f4379",
      "metadata": {
        "id": "997f4379",
        "outputId": "aa056966-ecd6-438f-b16e-048160d2e444"
      },
      "outputs": [
        {
          "data": {
            "text/plain": [
              "3"
            ]
          },
          "execution_count": 17,
          "metadata": {},
          "output_type": "execute_result"
        }
      ],
      "source": [
        "13 % 5  # Modulo"
      ]
    },
    {
      "cell_type": "code",
      "execution_count": null,
      "id": "618cacb8",
      "metadata": {
        "id": "618cacb8",
        "outputId": "9f63fbff-ef6b-411d-95db-bef51fc7069e"
      },
      "outputs": [
        {
          "data": {
            "text/plain": [
              "6"
            ]
          },
          "execution_count": 18,
          "metadata": {},
          "output_type": "execute_result"
        }
      ],
      "source": [
        "# int + int = int\n",
        "a = 5\n",
        "a + 1"
      ]
    },
    {
      "cell_type": "code",
      "execution_count": null,
      "id": "ea753198",
      "metadata": {
        "id": "ea753198",
        "outputId": "de464ce6-bbb9-487c-99f0-d8e63eab7f0b"
      },
      "outputs": [
        {
          "data": {
            "text/plain": [
              "6.0"
            ]
          },
          "execution_count": 19,
          "metadata": {},
          "output_type": "execute_result"
        }
      ],
      "source": [
        "# float + int = float\n",
        "b = 5.0\n",
        "b + 1"
      ]
    },
    {
      "cell_type": "code",
      "execution_count": null,
      "id": "a771120a",
      "metadata": {
        "id": "a771120a",
        "outputId": "58261b5a-3a43-4bbc-8911-2f10abdf479b"
      },
      "outputs": [
        {
          "data": {
            "text/plain": [
              "10.0"
            ]
          },
          "execution_count": 20,
          "metadata": {},
          "output_type": "execute_result"
        }
      ],
      "source": [
        "a + b"
      ]
    },
    {
      "cell_type": "markdown",
      "id": "36a81121",
      "metadata": {
        "id": "36a81121"
      },
      "source": [
        "```python\n",
        "some_words = \"I'm a string\"\n",
        "a = 6\n",
        "a + some_words\n",
        "```\n",
        "\n"
      ]
    },
    {
      "cell_type": "markdown",
      "id": "f005d6f7",
      "metadata": {
        "id": "f005d6f7"
      },
      "source": [
        "Outputs:\n",
        "\n",
        "```\n",
        "---------------------------------------------------------------------------\n",
        "TypeError                                 Traceback (most recent call last)\n",
        "<ipython-input-1-781eba7cf148> in <module>()\n",
        "      1 some_words = \"I'm a string\"\n",
        "      2 a = 6\n",
        "----> 3 a + some_words\n",
        "\n",
        "TypeError: unsupported operand type(s) for +: 'int' and 'str'\n",
        "```"
      ]
    },
    {
      "cell_type": "code",
      "execution_count": null,
      "id": "151f3089",
      "metadata": {
        "id": "151f3089",
        "outputId": "95a24029-21da-40aa-ab75-c6b6c9b872d3"
      },
      "outputs": [
        {
          "data": {
            "text/plain": [
              "'5 Python3 strings are Unicode (UTF-8) ❤❤❤ 😸 蛇'"
            ]
          },
          "execution_count": 21,
          "metadata": {},
          "output_type": "execute_result"
        }
      ],
      "source": [
        "str(a) + \" \" + some_words"
      ]
    },
    {
      "cell_type": "code",
      "source": [
        "zen = \"\"\"\n",
        "The Zen of Python, by Tim Peters\n",
        "\n",
        "Beautiful is better than ugly.\n",
        "Explicit is better than implicit.\n",
        "Simple is better than complex.\n",
        "Complex is better than complicated.\n",
        "Flat is better than nested.\n",
        "Sparse is better than dense.\n",
        "Readability counts.\n",
        "Special cases aren't special enough to break the rules.\n",
        "Although practicality beats purity.\n",
        "Errors should never pass silently.\n",
        "Unless explicitly silenced.\n",
        "In the face of ambiguity, refuse the temptation to guess.\n",
        "There should be one-- and preferably only one --obvious way to do it.\n",
        "Although that way may not be obvious at first unless you're Dutch.\n",
        "Now is better than never.\n",
        "Although never is often better than *right* now.\n",
        "If the implementation is hard to explain, it's a bad idea.\n",
        "If the implementation is easy to explain, it may be a good idea.\n",
        "Namespaces are one honking great idea -- let's do more of those!\n",
        "\"\"\"\n",
        "\n",
        "zen_split = zen.splitlines()\n",
        "print(\"var zen is \", type(zen), \" and var zen_split is \", type(zen_split))"
      ],
      "metadata": {
        "colab": {
          "base_uri": "https://localhost:8080/"
        },
        "id": "J3SHGSbRvc2z",
        "outputId": "95670698-61ec-45a2-eee9-d168a7d343ce"
      },
      "id": "J3SHGSbRvc2z",
      "execution_count": null,
      "outputs": [
        {
          "output_type": "stream",
          "name": "stdout",
          "text": [
            "var zen is  <class 'str'>  and var zen_split is  <class 'list'>\n"
          ]
        }
      ]
    },
    {
      "cell_type": "code",
      "execution_count": null,
      "id": "b677727c",
      "metadata": {
        "id": "b677727c",
        "outputId": "f112faaa-106f-4d2b-826c-2fc877002b90"
      },
      "outputs": [
        {
          "data": {
            "text/plain": [
              "6"
            ]
          },
          "execution_count": 22,
          "metadata": {},
          "output_type": "execute_result"
        }
      ],
      "source": [
        "# Shorthand: operators with assignment\n",
        "a += 1\n",
        "a\n",
        "\n",
        "# Equivalent to:\n",
        "# a = a + 1"
      ]
    },
    {
      "cell_type": "markdown",
      "id": "8bc6429c",
      "metadata": {
        "id": "8bc6429c"
      },
      "source": [
        "### Boolean operations\n",
        "\n",
        "We can also use comparison and logic operators:\n",
        "`<, >, ==, !=, <=, >=` and statements of identity such as\n",
        "`and, or, not`. The data type returned by this is\n",
        "called a _boolean_.\n"
      ]
    },
    {
      "cell_type": "code",
      "execution_count": null,
      "id": "edc1625e",
      "metadata": {
        "id": "edc1625e",
        "outputId": "830735c8-72e4-4c5a-fb76-179b5d27835c"
      },
      "outputs": [
        {
          "data": {
            "text/plain": [
              "False"
            ]
          },
          "execution_count": 23,
          "metadata": {},
          "output_type": "execute_result"
        }
      ],
      "source": [
        "3 > 4"
      ]
    },
    {
      "cell_type": "code",
      "execution_count": null,
      "id": "3d8fceab",
      "metadata": {
        "id": "3d8fceab",
        "outputId": "53602ecb-bedc-4607-93e0-6e24a468e391"
      },
      "outputs": [
        {
          "data": {
            "text/plain": [
              "True"
            ]
          },
          "execution_count": 24,
          "metadata": {},
          "output_type": "execute_result"
        }
      ],
      "source": [
        "True and True"
      ]
    },
    {
      "cell_type": "code",
      "execution_count": null,
      "id": "b15c26e2",
      "metadata": {
        "id": "b15c26e2",
        "outputId": "45419e33-fc1c-42c1-f29e-6dc85bd749ea"
      },
      "outputs": [
        {
          "data": {
            "text/plain": [
              "True"
            ]
          },
          "execution_count": 25,
          "metadata": {},
          "output_type": "execute_result"
        }
      ],
      "source": [
        "True or False"
      ]
    },
    {
      "cell_type": "markdown",
      "source": [
        "Python was designed with simplicity in mind. Rossum wanted the code to be English-like and easy to read, write, and understand. The syntax is simple and approachable for beginners, and seasoned programmers can come to Python from other languages without any struggle.\n",
        "\n",
        "This underlying simplicity doesn’t mean you can’t solve complex problems with Python. The beauty of Python is you can harness all its under-the-hood power using its straightforward and accessible syntax. This makes Python ideally suited for rapid application development."
      ],
      "metadata": {
        "id": "AbI8hyTluOva"
      },
      "id": "AbI8hyTluOva"
    },
    {
      "cell_type": "code",
      "source": [
        "exam_score = 40 \n",
        "course_work_score = 55 \n",
        "project_score = 40\n",
        "\n",
        "if (course_work_score >= 40 and exam_score >= 60) or (project_score + exam_score >=70):\n",
        "    print(\"You passed.\") \n",
        "else:\n",
        "   print(\"You failed.\")\n"
      ],
      "metadata": {
        "colab": {
          "base_uri": "https://localhost:8080/"
        },
        "id": "vkWRJYoStQy4",
        "outputId": "1ad8b697-062a-4919-f3ec-5ed2cd9dc91f"
      },
      "id": "vkWRJYoStQy4",
      "execution_count": null,
      "outputs": [
        {
          "output_type": "stream",
          "name": "stdout",
          "text": [
            "You passed.\n"
          ]
        }
      ]
    },
    {
      "cell_type": "markdown",
      "source": [
        "The intent of this code should be obvious to anyone. Note the use of `and` and `or` to represent the logical operators. By contrast, C uses `&&` and `||`."
      ],
      "metadata": {
        "id": "FfZJY6FTuXxt"
      },
      "id": "FfZJY6FTuXxt"
    },
    {
      "cell_type": "markdown",
      "id": "6f207891",
      "metadata": {
        "id": "6f207891"
      },
      "source": [
        "## Lists and sequence types"
      ]
    },
    {
      "cell_type": "markdown",
      "id": "5c211c7d",
      "metadata": {
        "id": "5c211c7d"
      },
      "source": [
        "### Lists"
      ]
    },
    {
      "cell_type": "code",
      "execution_count": null,
      "id": "a02c2568",
      "metadata": {
        "id": "a02c2568",
        "outputId": "4b525cc6-c13f-42d8-ce3d-01ecf23fc391"
      },
      "outputs": [
        {
          "data": {
            "text/plain": [
              "[2, 4, 6, 8, 10]"
            ]
          },
          "execution_count": 26,
          "metadata": {},
          "output_type": "execute_result"
        }
      ],
      "source": [
        "numbers = [2, 4, 6, 8, 10]\n",
        "numbers"
      ]
    },
    {
      "cell_type": "code",
      "execution_count": null,
      "id": "2fcc44ef",
      "metadata": {
        "id": "2fcc44ef",
        "outputId": "933ed74c-3ff6-402d-92fe-f98f180526ef"
      },
      "outputs": [
        {
          "data": {
            "text/plain": [
              "5"
            ]
          },
          "execution_count": 27,
          "metadata": {},
          "output_type": "execute_result"
        }
      ],
      "source": [
        "# `len` get the length of a list\n",
        "len(numbers)"
      ]
    },
    {
      "cell_type": "code",
      "execution_count": null,
      "id": "40ca7d9e",
      "metadata": {
        "id": "40ca7d9e",
        "outputId": "42ed50be-c75a-462f-e0d6-078c57f0270a"
      },
      "outputs": [
        {
          "data": {
            "text/plain": [
              "['asdf', 2, 3.142, [2, 4, 6, 8, 10], ['a', 'b', 'c']]"
            ]
          },
          "execution_count": 28,
          "metadata": {},
          "output_type": "execute_result"
        }
      ],
      "source": [
        "# Lists can contain multiple data types, including other lists\n",
        "mixed_list = [\"asdf\", 2, 3.142, numbers, ['a','b','c']]\n",
        "mixed_list"
      ]
    },
    {
      "cell_type": "markdown",
      "id": "ce044577",
      "metadata": {
        "id": "ce044577"
      },
      "source": [
        "You can retrieve items from a list by their *index*. In Python, the first item has an index of 0 (zero)."
      ]
    },
    {
      "cell_type": "code",
      "execution_count": null,
      "id": "434f8f09",
      "metadata": {
        "id": "434f8f09",
        "outputId": "609d3924-a178-42ba-c92c-27f33a624bd2"
      },
      "outputs": [
        {
          "data": {
            "text/plain": [
              "2"
            ]
          },
          "execution_count": 29,
          "metadata": {},
          "output_type": "execute_result"
        }
      ],
      "source": [
        "numbers[0]"
      ]
    },
    {
      "cell_type": "code",
      "execution_count": null,
      "id": "f07212f3",
      "metadata": {
        "id": "f07212f3",
        "outputId": "1fbb4cf9-793b-457d-ba8c-9d9fc8c1f79f"
      },
      "outputs": [
        {
          "data": {
            "text/plain": [
              "8"
            ]
          },
          "execution_count": 30,
          "metadata": {},
          "output_type": "execute_result"
        }
      ],
      "source": [
        "numbers[3]"
      ]
    },
    {
      "cell_type": "markdown",
      "id": "864da39f",
      "metadata": {
        "id": "864da39f"
      },
      "source": [
        "You can also assign a new value to any position in the list."
      ]
    },
    {
      "cell_type": "code",
      "execution_count": null,
      "id": "b744a5c6",
      "metadata": {
        "id": "b744a5c6",
        "outputId": "f8712b89-6645-4d39-d5d5-923e87bd25e3"
      },
      "outputs": [
        {
          "data": {
            "text/plain": [
              "[2, 4, 6, 800, 10]"
            ]
          },
          "execution_count": 31,
          "metadata": {},
          "output_type": "execute_result"
        }
      ],
      "source": [
        "numbers[3] = numbers[3] * 100\n",
        "numbers"
      ]
    },
    {
      "cell_type": "markdown",
      "id": "5bac25f2",
      "metadata": {
        "id": "5bac25f2"
      },
      "source": [
        "You can append items to the end of the list."
      ]
    },
    {
      "cell_type": "code",
      "execution_count": null,
      "id": "e2d1bdd6",
      "metadata": {
        "id": "e2d1bdd6",
        "outputId": "1d9a020e-5f0a-49ff-d988-7a2acae194e4"
      },
      "outputs": [
        {
          "data": {
            "text/plain": [
              "[2, 4, 6, 800, 10, 12]"
            ]
          },
          "execution_count": 32,
          "metadata": {},
          "output_type": "execute_result"
        }
      ],
      "source": [
        "numbers.append(12)\n",
        "numbers"
      ]
    },
    {
      "cell_type": "markdown",
      "id": "0632ceed",
      "metadata": {
        "id": "0632ceed"
      },
      "source": [
        "You can add multiple items to the end of a list with `extend`."
      ]
    },
    {
      "cell_type": "code",
      "execution_count": null,
      "id": "7211f207",
      "metadata": {
        "id": "7211f207",
        "outputId": "8803feb2-af9e-4086-a694-ef4cb675d564"
      },
      "outputs": [
        {
          "data": {
            "text/plain": [
              "[2, 4, 6, 800, 10, 12, 14, 16, 18]"
            ]
          },
          "execution_count": 33,
          "metadata": {},
          "output_type": "execute_result"
        }
      ],
      "source": [
        "numbers.extend([14, 16, 18])\n",
        "numbers"
      ]
    },
    {
      "cell_type": "markdown",
      "id": "a72ad1fd",
      "metadata": {
        "id": "a72ad1fd"
      },
      "source": [
        "### Loops\n",
        "\n",
        "A for loop can be used to access the elements in a list or other Python data structure one at a time. We will learn about loops in other lesson."
      ]
    },
    {
      "cell_type": "code",
      "execution_count": null,
      "id": "fbdd7cc0",
      "metadata": {
        "id": "fbdd7cc0",
        "outputId": "e5d1a29a-647b-4115-c772-770504db2de1"
      },
      "outputs": [
        {
          "name": "stdout",
          "output_type": "stream",
          "text": [
            "2\n",
            "4\n",
            "6\n",
            "800\n",
            "10\n",
            "12\n",
            "14\n",
            "16\n",
            "18\n"
          ]
        }
      ],
      "source": [
        "for num in numbers:\n",
        "    print(num)"
      ]
    },
    {
      "cell_type": "markdown",
      "id": "2cbc5d05",
      "metadata": {
        "id": "2cbc5d05"
      },
      "source": [
        "**Indentation** is very important in Python. Note that the second line in the\n",
        "example above is indented, indicating the code that is the body of the loop."
      ]
    },
    {
      "cell_type": "markdown",
      "id": "459658e1",
      "metadata": {
        "id": "459658e1"
      },
      "source": [
        "To find out what methods are available for an object, we can use the built-in `help` command:"
      ]
    },
    {
      "cell_type": "code",
      "execution_count": null,
      "id": "c67fac3e",
      "metadata": {
        "id": "c67fac3e",
        "outputId": "66ae266d-d54c-49dd-9183-46d9728d0774"
      },
      "outputs": [
        {
          "name": "stdout",
          "output_type": "stream",
          "text": [
            "Help on list object:\n",
            "\n",
            "class list(object)\n",
            " |  list() -> new empty list\n",
            " |  list(iterable) -> new list initialized from iterable's items\n",
            " |  \n",
            " |  Methods defined here:\n",
            " |  \n",
            " |  __add__(self, value, /)\n",
            " |      Return self+value.\n",
            " |  \n",
            " |  __contains__(self, key, /)\n",
            " |      Return key in self.\n",
            " |  \n",
            " |  __delitem__(self, key, /)\n",
            " |      Delete self[key].\n",
            " |  \n",
            " |  __eq__(self, value, /)\n",
            " |      Return self==value.\n",
            " |  \n",
            " |  __ge__(self, value, /)\n",
            " |      Return self>=value.\n",
            " |  \n",
            " |  __getattribute__(self, name, /)\n",
            " |      Return getattr(self, name).\n",
            " |  \n",
            " |  __getitem__(...)\n",
            " |      x.__getitem__(y) <==> x[y]\n",
            " |  \n",
            " |  __gt__(self, value, /)\n",
            " |      Return self>value.\n",
            " |  \n",
            " |  __iadd__(self, value, /)\n",
            " |      Implement self+=value.\n",
            " |  \n",
            " |  __imul__(self, value, /)\n",
            " |      Implement self*=value.\n",
            " |  \n",
            " |  __init__(self, /, *args, **kwargs)\n",
            " |      Initialize self.  See help(type(self)) for accurate signature.\n",
            " |  \n",
            " |  __iter__(self, /)\n",
            " |      Implement iter(self).\n",
            " |  \n",
            " |  __le__(self, value, /)\n",
            " |      Return self<=value.\n",
            " |  \n",
            " |  __len__(self, /)\n",
            " |      Return len(self).\n",
            " |  \n",
            " |  __lt__(self, value, /)\n",
            " |      Return self<value.\n",
            " |  \n",
            " |  __mul__(self, value, /)\n",
            " |      Return self*value.\n",
            " |  \n",
            " |  __ne__(self, value, /)\n",
            " |      Return self!=value.\n",
            " |  \n",
            " |  __new__(*args, **kwargs) from builtins.type\n",
            " |      Create and return a new object.  See help(type) for accurate signature.\n",
            " |  \n",
            " |  __repr__(self, /)\n",
            " |      Return repr(self).\n",
            " |  \n",
            " |  __reversed__(...)\n",
            " |      L.__reversed__() -- return a reverse iterator over the list\n",
            " |  \n",
            " |  __rmul__(self, value, /)\n",
            " |      Return value*self.\n",
            " |  \n",
            " |  __setitem__(self, key, value, /)\n",
            " |      Set self[key] to value.\n",
            " |  \n",
            " |  __sizeof__(...)\n",
            " |      L.__sizeof__() -- size of L in memory, in bytes\n",
            " |  \n",
            " |  append(...)\n",
            " |      L.append(object) -> None -- append object to end\n",
            " |  \n",
            " |  clear(...)\n",
            " |      L.clear() -> None -- remove all items from L\n",
            " |  \n",
            " |  copy(...)\n",
            " |      L.copy() -> list -- a shallow copy of L\n",
            " |  \n",
            " |  count(...)\n",
            " |      L.count(value) -> integer -- return number of occurrences of value\n",
            " |  \n",
            " |  extend(...)\n",
            " |      L.extend(iterable) -> None -- extend list by appending elements from the iterable\n",
            " |  \n",
            " |  index(...)\n",
            " |      L.index(value, [start, [stop]]) -> integer -- return first index of value.\n",
            " |      Raises ValueError if the value is not present.\n",
            " |  \n",
            " |  insert(...)\n",
            " |      L.insert(index, object) -- insert object before index\n",
            " |  \n",
            " |  pop(...)\n",
            " |      L.pop([index]) -> item -- remove and return item at index (default last).\n",
            " |      Raises IndexError if list is empty or index is out of range.\n",
            " |  \n",
            " |  remove(...)\n",
            " |      L.remove(value) -> None -- remove first occurrence of value.\n",
            " |      Raises ValueError if the value is not present.\n",
            " |  \n",
            " |  reverse(...)\n",
            " |      L.reverse() -- reverse *IN PLACE*\n",
            " |  \n",
            " |  sort(...)\n",
            " |      L.sort(key=None, reverse=False) -> None -- stable sort *IN PLACE*\n",
            " |  \n",
            " |  ----------------------------------------------------------------------\n",
            " |  Data and other attributes defined here:\n",
            " |  \n",
            " |  __hash__ = None\n",
            "\n"
          ]
        }
      ],
      "source": [
        "help(numbers)"
      ]
    },
    {
      "cell_type": "markdown",
      "id": "bbd22ac7",
      "metadata": {
        "id": "bbd22ac7"
      },
      "source": [
        "### Tuples\n",
        "\n",
        "A tuple is similar to a list in that it's an ordered sequence of elements.\n",
        "However, tuples can not be changed once created (they are \"immutable\"). Tuples\n",
        "are created by placing comma-separated values inside parentheses `()`."
      ]
    },
    {
      "cell_type": "code",
      "execution_count": null,
      "id": "464b5bb8",
      "metadata": {
        "id": "464b5bb8",
        "outputId": "ad8885a6-3279-4e69-d58b-34cf7b0bc60a"
      },
      "outputs": [
        {
          "data": {
            "text/plain": [
              "('bar', 100, 200, 'foo')"
            ]
          },
          "execution_count": 36,
          "metadata": {},
          "output_type": "execute_result"
        }
      ],
      "source": [
        "tuples_are_immutable = (\"bar\", 100, 200, \"foo\")\n",
        "tuples_are_immutable"
      ]
    },
    {
      "cell_type": "code",
      "execution_count": null,
      "id": "563e3be0",
      "metadata": {
        "id": "563e3be0",
        "outputId": "7763fef9-9c01-4df3-fc1c-f6bc75b14a1e"
      },
      "outputs": [
        {
          "data": {
            "text/plain": [
              "100"
            ]
          },
          "execution_count": 37,
          "metadata": {},
          "output_type": "execute_result"
        }
      ],
      "source": [
        "tuples_are_immutable[1]"
      ]
    },
    {
      "cell_type": "markdown",
      "id": "8d816d53",
      "metadata": {
        "id": "8d816d53"
      },
      "source": [
        "```python\n",
        "tuples_are_immutable[1] = 666\n",
        "```"
      ]
    },
    {
      "cell_type": "markdown",
      "id": "356fe9f0",
      "metadata": {
        "id": "356fe9f0"
      },
      "source": [
        "Outputs:\n",
        "\n",
        "```\n",
        "---------------------------------------------------------------------------\n",
        "TypeError                                 Traceback (most recent call last)\n",
        "<ipython-input-39-c91965b0815a> in <module>()\n",
        "----> 1 tuples_are_immutable[1] = 666\n",
        "\n",
        "TypeError: 'tuple' object does not support item assignment\n",
        "```"
      ]
    },
    {
      "cell_type": "markdown",
      "id": "10a3ad2b",
      "metadata": {
        "id": "10a3ad2b"
      },
      "source": [
        "### Dictionaries\n",
        "\n",
        "Dictionaries are a container that store key-value pairs. They are unordered. \n",
        "\n",
        "Other programming languages might call this a 'hash', 'hashtable' or 'hashmap'."
      ]
    },
    {
      "cell_type": "code",
      "execution_count": null,
      "id": "0e4315e8",
      "metadata": {
        "id": "0e4315e8",
        "outputId": "8b21932c-e802-4ef7-e24a-bd44dbf18c71"
      },
      "outputs": [
        {
          "data": {
            "text/plain": [
              "{'Apple': 1, 'Orange': 2, 'Pear': 4}"
            ]
          },
          "execution_count": 38,
          "metadata": {},
          "output_type": "execute_result"
        }
      ],
      "source": [
        "pairs = {'Apple': 1, 'Orange': 2, 'Pear': 4}\n",
        "pairs"
      ]
    },
    {
      "cell_type": "code",
      "execution_count": null,
      "id": "b05bbfb2",
      "metadata": {
        "id": "b05bbfb2",
        "outputId": "df985631-1d1a-4803-8c83-ad70f2db27ba"
      },
      "outputs": [
        {
          "data": {
            "text/plain": [
              "2"
            ]
          },
          "execution_count": 39,
          "metadata": {},
          "output_type": "execute_result"
        }
      ],
      "source": [
        "pairs['Orange']"
      ]
    },
    {
      "cell_type": "code",
      "execution_count": null,
      "id": "944f67b1",
      "metadata": {
        "id": "944f67b1",
        "outputId": "66a758ae-481c-4b15-bab9-39f210df4f04"
      },
      "outputs": [
        {
          "data": {
            "text/plain": [
              "{'Apple': 1, 'Orange': 16, 'Pear': 4}"
            ]
          },
          "execution_count": 40,
          "metadata": {},
          "output_type": "execute_result"
        }
      ],
      "source": [
        "pairs['Orange'] = 16\n",
        "pairs"
      ]
    },
    {
      "cell_type": "markdown",
      "id": "7177877f",
      "metadata": {
        "id": "7177877f"
      },
      "source": [
        "The `items` method returns a sequence of the key-value pairs as tuples.\n",
        "\n",
        "`values` returns a sequence of just the values.\n",
        "\n",
        "`keys` returns a sequence of just the keys.\n",
        "\n",
        "---\n",
        "In Python 3, the `.items()`, `.values()` and `.keys()` methods return a ['dictionary view' object](https://docs.python.org/3/library/stdtypes.html#dictionary-view-objects) that behaves like a list or tuple in for loops but doesn't support indexing. 'Dictionary views' stay in sync even when the dictionary changes.\n",
        "\n",
        "You can turn them into a normal list or tuple with the `list()` or `tuple()` functions."
      ]
    },
    {
      "cell_type": "code",
      "execution_count": null,
      "id": "90aceffa",
      "metadata": {
        "id": "90aceffa",
        "outputId": "30eaf61b-7126-4e46-f7f1-d2a21ffe713d"
      },
      "outputs": [
        {
          "data": {
            "text/plain": [
              "dict_items([('Apple', 1), ('Orange', 16), ('Pear', 4)])"
            ]
          },
          "execution_count": 41,
          "metadata": {},
          "output_type": "execute_result"
        }
      ],
      "source": [
        "pairs.items()\n",
        "# list(pairs.items())"
      ]
    },
    {
      "cell_type": "code",
      "execution_count": null,
      "id": "8aef73f8",
      "metadata": {
        "id": "8aef73f8",
        "outputId": "728ac860-abc3-4bab-8032-3b50daec06d9"
      },
      "outputs": [
        {
          "data": {
            "text/plain": [
              "dict_values([1, 16, 4])"
            ]
          },
          "execution_count": 42,
          "metadata": {},
          "output_type": "execute_result"
        }
      ],
      "source": [
        "pairs.values()\n",
        "# list(pairs.values())"
      ]
    },
    {
      "cell_type": "code",
      "execution_count": null,
      "id": "f6988350",
      "metadata": {
        "id": "f6988350",
        "outputId": "c63c2b66-61b2-4e7a-a072-0b8e19251467"
      },
      "outputs": [
        {
          "data": {
            "text/plain": [
              "dict_keys(['Apple', 'Orange', 'Pear'])"
            ]
          },
          "execution_count": 43,
          "metadata": {},
          "output_type": "execute_result"
        }
      ],
      "source": [
        "pairs.keys()\n",
        "# list(pairs.keys())"
      ]
    },
    {
      "cell_type": "code",
      "execution_count": null,
      "id": "1bb384ee",
      "metadata": {
        "id": "1bb384ee",
        "outputId": "1a846948-a132-473a-aa53-c3524f080dfc"
      },
      "outputs": [
        {
          "data": {
            "text/plain": [
              "3"
            ]
          },
          "execution_count": 44,
          "metadata": {},
          "output_type": "execute_result"
        }
      ],
      "source": [
        "len(pairs)"
      ]
    },
    {
      "cell_type": "code",
      "execution_count": null,
      "id": "c9ed4644",
      "metadata": {
        "id": "c9ed4644",
        "outputId": "60c3ea75-af4a-4f52-ecfa-9a2e4cdd4452"
      },
      "outputs": [
        {
          "data": {
            "text/plain": [
              "{'first': {1: 2, 2: 4, 4: 8, 8: 16}, 'second': {'a': 2.2, 'b': 4.4}}"
            ]
          },
          "execution_count": 45,
          "metadata": {},
          "output_type": "execute_result"
        }
      ],
      "source": [
        "dict_of_dicts = {'first': {1:2, 2: 4, 4: 8, 8: 16}, 'second': {'a': 2.2, 'b': 4.4}}\n",
        "dict_of_dicts"
      ]
    },
    {
      "cell_type": "markdown",
      "id": "c351d966",
      "metadata": {
        "tags": [
          "challenge"
        ],
        "id": "c351d966"
      },
      "source": [
        "## Challenge - Dictionaries\n",
        "\n",
        "Given the dictionary:\n",
        "\n",
        "```python\n",
        "jam_ratings = {'Plum': 6, 'Apricot': 2, 'Strawberry': 8}\n",
        "```\n",
        "\n",
        "How would you change the value associated with the key `Apricot` to `9`.\n",
        "\n",
        "A) `jam_ratings = {'apricot': 9}`\n",
        "\n",
        "B) `jam_ratings[9] = 'Apricot'`\n",
        "\n",
        "C) `jam_ratings['Apricot'] = 9`\n",
        "\n",
        "D) `jam_ratings[2] = 'Apricot'`"
      ]
    },
    {
      "cell_type": "markdown",
      "id": "af29f0b7",
      "metadata": {
        "tags": [
          "solution"
        ],
        "id": "af29f0b7"
      },
      "source": [
        "## Solution - Dictionaries\n",
        "\n",
        "The correct answer is **C**.\n",
        "\n",
        "**A** assigns the name `jam_ratings` to a new dictionary with only the key `apricot` - not only are the other jam ratings now missing, but strings used as dictionary keys are *case sensitive* - `apricot` is not the same key as `Apricot`.\n",
        "\n",
        "**B** mixes up the value and the key. Assigning to a dictionary uses the form: `dictionary[key] = value`.\n",
        "\n",
        "**C** is correct. Bonus - another way to do this would be `jam_ratings.update({'Apricot': 9})` or even `jam_ratings.update(Apricot=9)`.\n",
        "\n",
        "**D** mixes up the value and the key (and doesn't actually include the new value to be assigned, `9`, anywhere). `2` is the original *value*, `Apricot` is the key. Assigning to a dictionary uses the form: `dictionary[key] = value`."
      ]
    },
    {
      "cell_type": "markdown",
      "id": "f475ca76",
      "metadata": {
        "id": "f475ca76"
      },
      "source": [
        "<a id='loops'></a>\n",
        "## Automation with Loops"
      ]
    },
    {
      "cell_type": "markdown",
      "id": "7d266b02",
      "metadata": {
        "tags": [
          "solution"
        ],
        "id": "7d266b02"
      },
      "source": [
        "## Instructor notes\n",
        "\n",
        "*Estimated teaching time:* 30 min\n",
        "\n",
        "*Estimated challenge time:* 0 min\n",
        "\n",
        "*Key questions:*\n",
        "\n",
        "  - \"How can I do the same operations on many different values?\"\"\n",
        "    \n",
        "*Learning objectives:*\n",
        "\n",
        "  - \"Explain what a `for` loop does.\"\n",
        "  - \"Correctly write `for` loops to repeat simple calculations.\"\n",
        "  - \"Trace changes to a loop variable as the loop runs.\"\n",
        "  - \"Trace changes to other variables as they are updated by a `for` loop.\"\n",
        "\n",
        "*Key points:*\n",
        "\n",
        "  - \"Use `for variable in sequence` to process the elements of a sequence one at a time.\"\n",
        "  - \"The body of a `for` loop must be indented.\"\n",
        "  - \"Use `len(thing)` to determine the length of something that contains other values.\"\n",
        "\n",
        "---"
      ]
    },
    {
      "cell_type": "markdown",
      "id": "3e209b64",
      "metadata": {
        "id": "3e209b64"
      },
      "source": [
        "An example task that we might want to repeat is printing each character in a\n",
        "word on a line of its own."
      ]
    },
    {
      "cell_type": "code",
      "execution_count": null,
      "id": "2be20cb7",
      "metadata": {
        "id": "2be20cb7"
      },
      "outputs": [],
      "source": [
        "word = 'lead'"
      ]
    },
    {
      "cell_type": "markdown",
      "id": "dad92d34",
      "metadata": {
        "id": "dad92d34"
      },
      "source": [
        "We can access a character in a string using its index. For example, we can get the first\n",
        "character of the word `'lead'`, by using `word[0]`. One way to print each character is to use\n",
        "four `print` statements:"
      ]
    },
    {
      "cell_type": "code",
      "execution_count": null,
      "id": "f26a35b4",
      "metadata": {
        "id": "f26a35b4",
        "outputId": "991e5a59-f8fa-439d-f539-cd27ed32fdad"
      },
      "outputs": [
        {
          "name": "stdout",
          "output_type": "stream",
          "text": [
            "l\n",
            "e\n",
            "a\n",
            "d\n"
          ]
        }
      ],
      "source": [
        "print(word[0])\n",
        "print(word[1])\n",
        "print(word[2])\n",
        "print(word[3])"
      ]
    },
    {
      "cell_type": "markdown",
      "id": "22dc04cf",
      "metadata": {
        "id": "22dc04cf"
      },
      "source": [
        "While this works, it's a bad approach for two reasons:\n",
        "\n",
        "1. It doesn't scale:\n",
        "   if we want to print the characters in a string that's hundreds of letters long,\n",
        "   we'd be better off just typing them in.\n",
        "\n",
        "2. It's fragile:\n",
        "   if we give it a longer string,\n",
        "   it only prints part of the data,\n",
        "   and if we give it a shorter one,\n",
        "   it produces an error because we're asking for characters that don't exist.\n",
        "\n"
      ]
    },
    {
      "cell_type": "markdown",
      "id": "66647cc5",
      "metadata": {
        "id": "66647cc5"
      },
      "source": [
        "Running:\n",
        "\n",
        "```python\n",
        "word = 'tin'\n",
        "print(word[0])\n",
        "print(word[1])\n",
        "print(word[2])\n",
        "print(word[3])\n",
        "```"
      ]
    },
    {
      "cell_type": "markdown",
      "id": "7d9c052f",
      "metadata": {
        "id": "7d9c052f"
      },
      "source": [
        "Gives the error:\n",
        "\n",
        "```\n",
        "---------------------------------------------------------------------------\n",
        "IndexError                                Traceback (most recent call last)\n",
        "<ipython-input-4-e59d5eac5430> in <module>()\n",
        "      3 print(word[1])\n",
        "      4 print(word[2])\n",
        "----> 5 print(word[3])\n",
        "\n",
        "IndexError: string index out of range\n",
        "```"
      ]
    },
    {
      "cell_type": "markdown",
      "id": "762035ef",
      "metadata": {
        "id": "762035ef"
      },
      "source": [
        "\n",
        "\n",
        "Here's a better approach:\n",
        "\n"
      ]
    },
    {
      "cell_type": "code",
      "execution_count": null,
      "id": "c084e765",
      "metadata": {
        "id": "c084e765",
        "outputId": "e30b5c23-5819-4898-eecc-127eb2851fdd"
      },
      "outputs": [
        {
          "name": "stdout",
          "output_type": "stream",
          "text": [
            "l\n",
            "e\n",
            "a\n",
            "d\n"
          ]
        }
      ],
      "source": [
        "word = 'lead'\n",
        "for char in word:\n",
        "    print(char)"
      ]
    },
    {
      "cell_type": "markdown",
      "id": "85769d1c",
      "metadata": {
        "id": "85769d1c"
      },
      "source": [
        "This is shorter --- certainly shorter than something that prints every character in a hundred-letter string --- and\n",
        "more robust as well:"
      ]
    },
    {
      "cell_type": "code",
      "execution_count": null,
      "id": "9d7ec52e",
      "metadata": {
        "id": "9d7ec52e",
        "outputId": "312431a6-141c-481a-e8b4-a87b92219b49"
      },
      "outputs": [
        {
          "name": "stdout",
          "output_type": "stream",
          "text": [
            "o\n",
            "x\n",
            "y\n",
            "g\n",
            "e\n",
            "n\n"
          ]
        }
      ],
      "source": [
        "word = 'oxygen'\n",
        "for char in word:\n",
        "    print(char)"
      ]
    },
    {
      "cell_type": "markdown",
      "id": "4bfe4c42",
      "metadata": {
        "id": "4bfe4c42"
      },
      "source": [
        "The improved version uses a **for loop** to repeat an operation --- in this case, printing --- once for each thing in a sequence.\n",
        "The general form of a loop is:\n",
        "\n",
        "```python\n",
        "for variable in collection:\n",
        "    # do things with variable\n",
        "```"
      ]
    },
    {
      "cell_type": "markdown",
      "id": "415bfa20",
      "metadata": {
        "id": "415bfa20"
      },
      "source": [
        "\n",
        "Using the oxygen example above, the loop might look like this:\n",
        "\n",
        "![loop_image](images/loops_image.png)\n",
        "\n",
        "where each character (`char`) in the variable `word` is looped through and printed one character after another.\n",
        "The numbers in the diagram denote which loop cycle the character was printed in (1 being the first loop, and 6 being the final loop).\n",
        "\n",
        "We can call the **loop variable** anything we like,\n",
        "but there must be a colon at the end of the line starting the loop, and we must indent anything we want to run inside the loop. Unlike many other languages, there is no command to signify the end of the loop body (e.g. `end for`); what is indented after the `for` statement belongs to the loop.\n",
        "\n",
        "\n"
      ]
    },
    {
      "cell_type": "markdown",
      "id": "0410f600",
      "metadata": {
        "id": "0410f600"
      },
      "source": [
        "## What's in a name?\n",
        "\n",
        "\n",
        "In the example above, the loop variable was given the name `char` as a mnemonic; it is short for 'character'. \n",
        "We can choose any name we want for variables. We might just as easily have chosen the name `banana` for the loop variable, as long as we use the same name when we invoke the variable inside the loop:\n",
        "\n"
      ]
    },
    {
      "cell_type": "code",
      "execution_count": null,
      "id": "e025637a",
      "metadata": {
        "id": "e025637a",
        "outputId": "0948562c-60a8-4c72-c9bc-86660f0c0f8b"
      },
      "outputs": [
        {
          "name": "stdout",
          "output_type": "stream",
          "text": [
            "o\n",
            "x\n",
            "y\n",
            "g\n",
            "e\n",
            "n\n"
          ]
        }
      ],
      "source": [
        "word = 'oxygen'\n",
        "for banana in word:\n",
        "    print(banana)"
      ]
    },
    {
      "cell_type": "markdown",
      "id": "a0a042be",
      "metadata": {
        "id": "a0a042be"
      },
      "source": [
        "It is a good idea to choose variable names that are meaningful, otherwise it would be more difficult to understand what the loop is doing.\n",
        "\n",
        "\n",
        "Here's another loop that repeatedly updates a variable:"
      ]
    },
    {
      "cell_type": "code",
      "execution_count": null,
      "id": "d2afcb7f",
      "metadata": {
        "id": "d2afcb7f",
        "outputId": "be1f1009-6ab7-4562-ea42-2ec7e35f85a2"
      },
      "outputs": [
        {
          "name": "stdout",
          "output_type": "stream",
          "text": [
            "There are 5 vowels\n"
          ]
        }
      ],
      "source": [
        "length = 0\n",
        "for vowel in 'aeiou':\n",
        "    length = length + 1\n",
        "print('There are', length, 'vowels')"
      ]
    },
    {
      "cell_type": "markdown",
      "id": "15cdcdd2",
      "metadata": {
        "id": "15cdcdd2"
      },
      "source": [
        "It's worth tracing the execution of this little program step by step.\n",
        "\n",
        "Since there are five characters in `'aeiou'`,\n",
        "the statement on line 3 will be executed five times.\n",
        "\n",
        "The first time around,\n",
        "`length` is zero (the value assigned to it on line 1)\n",
        "and `vowel` is `'a'`.\n",
        "The statement adds 1 to the old value of `length`,\n",
        "producing 1,\n",
        "and updates `length` to refer to that new value.\n",
        "\n",
        "The next time around,\n",
        "`vowel` is `'e'` and `length` is 1,\n",
        "so `length` is updated to be 2.\n",
        "\n",
        "After three more updates,\n",
        "`length` is 5;\n",
        "since there is nothing left in `'aeiou'` for Python to process,\n",
        "the loop finishes\n",
        "and the `print` statement on line 4 tells us our final answer.\n",
        "\n",
        "Note that a loop variable `vowel` is just a variable that's being used to record progress in a loop."
      ]
    },
    {
      "cell_type": "markdown",
      "id": "b5011d37",
      "metadata": {
        "id": "b5011d37"
      },
      "source": [
        "## Challenge - scope of the loop variable\n",
        "\n",
        "1. In the loop over `\"aeiou\"` above, does the loop variable `vowel` exist after the loop has finished ?\n"
      ]
    },
    {
      "cell_type": "code",
      "execution_count": null,
      "id": "0759a827",
      "metadata": {
        "id": "0759a827",
        "outputId": "14e571e1-5232-46d6-c03b-ba8fca9805a7"
      },
      "outputs": [
        {
          "name": "stdout",
          "output_type": "stream",
          "text": [
            "After the loop, `vowel` exists and has the value: u\n"
          ]
        }
      ],
      "source": [
        "length = 0\n",
        "for vowel in 'aeiou':\n",
        "    length = length + 1\n",
        "print('After the loop, `vowel` exists and has the value: ' + vowel)\n",
        "\n",
        "# The loop variable `vowel` exists after the loop is completed, not only inside the loop"
      ]
    },
    {
      "cell_type": "markdown",
      "id": "ca77a4ff",
      "metadata": {
        "id": "ca77a4ff"
      },
      "source": [
        "Note also that finding the length of a string is such a common operation that Python actually has a built-in function to do it called `len`:"
      ]
    },
    {
      "cell_type": "code",
      "execution_count": null,
      "id": "b75324e6",
      "metadata": {
        "id": "b75324e6",
        "outputId": "4dd08049-4373-4f82-ee3c-dbbdb07aaac1"
      },
      "outputs": [
        {
          "name": "stdout",
          "output_type": "stream",
          "text": [
            "5\n"
          ]
        }
      ],
      "source": [
        "print(len('aeiou'))"
      ]
    },
    {
      "cell_type": "markdown",
      "id": "09ce5eb9",
      "metadata": {
        "id": "09ce5eb9"
      },
      "source": [
        "`len` is much faster than any function we could write ourselves,\n",
        "and much easier to read than a two-line loop;\n",
        "it will also give us the length of many other things that we haven't met yet,\n",
        "so we should always use it when we can."
      ]
    },
    {
      "cell_type": "markdown",
      "id": "a98e523b",
      "metadata": {
        "id": "a98e523b"
      },
      "source": [
        "## From 1 to N\n",
        "\n",
        "Python has a built-in function called `range` that creates a sequence of numbers. `range` can\n",
        "accept 1, 2, or 3 parameters.\n",
        "\n",
        "* If one parameter is given, `range` creates an array of that length,\n",
        "  starting at zero and incrementing by 1.\n",
        "  For example, `range(3)` produces the numbers `0, 1, 2`.\n",
        "* If two parameters are given, `range` starts at\n",
        "  the first and ends just before the second, incrementing by one.\n",
        "  For example, `range(2, 5)` produces `2, 3, 4`.\n",
        "* If `range` is given 3 parameters,\n",
        "  it starts at the first one, ends just before the second one, and increments by the third one.\n",
        "  For exmaple `range(3, 10, 2)` produces `3, 5, 7, 9`.\n",
        "\n"
      ]
    },
    {
      "cell_type": "markdown",
      "id": "c07bedf2",
      "metadata": {
        "tags": [
          "challenge"
        ],
        "id": "c07bedf2"
      },
      "source": [
        "## Challenge - loop over a range\n",
        "Using `range`,\n",
        "write a loop that uses `range` to print the first 3 natural numbers:\n",
        "\n",
        "```\n",
        "1\n",
        "2\n",
        "3\n",
        "```\n",
        "\n",
        "\n"
      ]
    },
    {
      "cell_type": "markdown",
      "id": "102a3b0a",
      "metadata": {
        "tags": [
          "solution"
        ],
        "id": "102a3b0a"
      },
      "source": [
        "## Solution"
      ]
    },
    {
      "cell_type": "code",
      "execution_count": null,
      "id": "312e88bc",
      "metadata": {
        "tags": [
          "solution"
        ],
        "id": "312e88bc",
        "outputId": "e80c1af3-4d04-46a6-b99e-509374ddb45d"
      },
      "outputs": [
        {
          "name": "stdout",
          "output_type": "stream",
          "text": [
            "1\n",
            "2\n",
            "3\n"
          ]
        }
      ],
      "source": [
        "for i in range(1, 4):\n",
        "   print(i)"
      ]
    },
    {
      "cell_type": "markdown",
      "id": "89ac5e44",
      "metadata": {
        "id": "89ac5e44"
      },
      "source": [
        "## Computing Powers With Loops\n",
        "\n",
        "Exponentiation is built into Python:"
      ]
    },
    {
      "cell_type": "code",
      "execution_count": null,
      "id": "b3af4fd6",
      "metadata": {
        "id": "b3af4fd6",
        "outputId": "ce33dd44-3e2d-402b-8634-72b57d27c551"
      },
      "outputs": [
        {
          "name": "stdout",
          "output_type": "stream",
          "text": [
            "125\n"
          ]
        }
      ],
      "source": [
        "print(5 ** 3)"
      ]
    },
    {
      "cell_type": "markdown",
      "id": "a58bb559",
      "metadata": {
        "tags": [
          "challenge"
        ],
        "id": "a58bb559"
      },
      "source": [
        "## Challenge - multiplication in a loop\n",
        "\n",
        "Write a loop that calculates the same result as `5 ** 3` using\n",
        "multiplication (and without exponentiation)."
      ]
    },
    {
      "cell_type": "markdown",
      "id": "1e16b8fa",
      "metadata": {
        "tags": [
          "solution"
        ],
        "id": "1e16b8fa"
      },
      "source": [
        "## Solution"
      ]
    },
    {
      "cell_type": "code",
      "execution_count": null,
      "id": "fae6b3f2",
      "metadata": {
        "tags": [
          "solution"
        ],
        "id": "fae6b3f2",
        "outputId": "0a176e0f-0602-49d3-dda0-3f1b2817141f"
      },
      "outputs": [
        {
          "name": "stdout",
          "output_type": "stream",
          "text": [
            "125\n"
          ]
        }
      ],
      "source": [
        "result = 1\n",
        "for i in range(0, 3):\n",
        "   result = result * 5\n",
        "print(result)"
      ]
    },
    {
      "cell_type": "markdown",
      "id": "6ee4d4a2",
      "metadata": {
        "tags": [
          "challenge"
        ],
        "id": "6ee4d4a2"
      },
      "source": [
        "## Bonus challenge: reverse a string\n",
        "\n",
        "Knowing that two strings can be concatenated using the `+` operator,\n",
        "write a loop that takes a string\n",
        "and produces a new string with the characters in reverse order,\n",
        "so `'Newton'` becomes `'notweN'`."
      ]
    },
    {
      "cell_type": "markdown",
      "id": "d9ec43e2",
      "metadata": {
        "tags": [
          "solution"
        ],
        "id": "d9ec43e2"
      },
      "source": [
        "## Solution"
      ]
    },
    {
      "cell_type": "code",
      "execution_count": null,
      "id": "799700e2",
      "metadata": {
        "tags": [
          "solution"
        ],
        "id": "799700e2",
        "outputId": "bd7ca8c8-cbc7-4950-8eab-eae5be339877"
      },
      "outputs": [
        {
          "name": "stdout",
          "output_type": "stream",
          "text": [
            "notweN\n"
          ]
        }
      ],
      "source": [
        "newstring = ''\n",
        "oldstring = 'Newton'\n",
        "for char in oldstring:\n",
        "   newstring = char + newstring\n",
        "print(newstring)"
      ]
    },
    {
      "cell_type": "markdown",
      "id": "ba571e46",
      "metadata": {
        "id": "ba571e46"
      },
      "source": [
        "## Enumerate\n",
        "\n",
        "The built-in function `enumerate` takes a sequence (e.g. a list) and generates a\n",
        "new sequence of the same length. Each element of the new sequence is a pair composed of the index\n",
        "(0, 1, 2,...) and the value from the original sequence:\n",
        "\n",
        "```\n",
        "for i, x in enumerate(xs):\n",
        "    # Do something with i and x\n",
        "```\n",
        "\n",
        "\n",
        "The code above loops through `xs`, assigning the index to `i` and the value to `x`."
      ]
    },
    {
      "cell_type": "markdown",
      "id": "2f0d2470",
      "metadata": {
        "tags": [
          "challenge"
        ],
        "id": "2f0d2470"
      },
      "source": [
        "## Bonus challenge: enumeration for computing the value of a polynomial\n",
        "\n",
        "Suppose you have encoded a polynomial as a list of coefficients in\n",
        "the following way: the first element is the constant term, the\n",
        "second element is the coefficient of the linear term, the third is the\n",
        "coefficient of the quadratic term, etc.\n",
        "\n",
        "```\n",
        "x = 5\n",
        "cc = [2, 4, 3]\n",
        "```\n",
        "\n",
        "\n",
        "```\n",
        "y = cc[0] * x**0 + cc[1] * x**1 + cc[2] * x**2\n",
        "y = 97\n",
        "```\n",
        "\n",
        "\n",
        "Write a loop using `enumerate(cc)` which computes the value `y` of any\n",
        "polynomial, given `x` and `cc`."
      ]
    },
    {
      "cell_type": "markdown",
      "id": "893544dd",
      "metadata": {
        "tags": [
          "solution"
        ],
        "id": "893544dd"
      },
      "source": [
        "## Solution"
      ]
    },
    {
      "cell_type": "code",
      "execution_count": null,
      "id": "21176c24",
      "metadata": {
        "tags": [
          "solution"
        ],
        "id": "21176c24",
        "outputId": "4da469d3-f22a-4af0-bbc5-fd5f64317f3a"
      },
      "outputs": [
        {
          "name": "stdout",
          "output_type": "stream",
          "text": [
            "97\n"
          ]
        }
      ],
      "source": [
        "x = 5\n",
        "cc = [2, 4, 3]\n",
        "y = cc[0] * x**0 + cc[1] * x**1 + cc[2] * x**2\n",
        "\n",
        "y = 0\n",
        "for i, c in enumerate(cc):\n",
        "    y = y + x**i * c\n",
        "    \n",
        "print(y)"
      ]
    },
    {
      "cell_type": "code",
      "execution_count": null,
      "id": "53f51e8c",
      "metadata": {
        "id": "53f51e8c"
      },
      "outputs": [],
      "source": []
    },
    {
      "cell_type": "markdown",
      "id": "04884b9b",
      "metadata": {
        "id": "04884b9b"
      },
      "source": [
        "<a id='functions'></a>\n",
        "# section: 1.2.2: functions\n",
        "- data structures, functions, pkgs"
      ]
    },
    {
      "cell_type": "markdown",
      "id": "968523b7",
      "metadata": {
        "tags": [
          "solution"
        ],
        "id": "968523b7"
      },
      "source": [
        "## Instructor notes\n",
        "\n",
        "*Estimated teaching time:* 30 min\n",
        "\n",
        "*Estimated challenge time:* 0 min\n",
        "\n",
        "*Key questions:*\n",
        "\n",
        "\n",
        "    \n",
        "*Learning objectives:*\n",
        "\n",
        "  - \"Build reusable code in Python.\"\n",
        "  - \"Write functions using conditional statements (if, then, else)\"\n",
        "\n",
        "---"
      ]
    },
    {
      "cell_type": "markdown",
      "id": "b9831cb0",
      "metadata": {
        "id": "b9831cb0"
      },
      "source": [
        "## Functions\n",
        "\n",
        "Functions wrap up reusable pieces of code - they help you apply the _Do Not Repeat Yourself_ (DRY) principle."
      ]
    },
    {
      "cell_type": "code",
      "execution_count": null,
      "id": "aa67f8af",
      "metadata": {
        "tags": [
          "solution"
        ],
        "id": "aa67f8af",
        "outputId": "5a738a32-3c5d-47b3-ea73-adc5358ce822"
      },
      "outputs": [
        {
          "data": {
            "text/plain": [
              "16"
            ]
          },
          "execution_count": 1,
          "metadata": {},
          "output_type": "execute_result"
        }
      ],
      "source": [
        "def square(x):\n",
        "    # The body of the function is indicated by indenting by 4 spaces.\n",
        "    return x**2\n",
        "\n",
        "square(4)"
      ]
    },
    {
      "cell_type": "code",
      "execution_count": null,
      "id": "f9847c75",
      "metadata": {
        "tags": [
          "solution"
        ],
        "id": "f9847c75",
        "outputId": "a13cc313-1346-4c8e-aa5c-11b2f57fe89a"
      },
      "outputs": [
        {
          "data": {
            "text/plain": [
              "'python-esque'"
            ]
          },
          "execution_count": 2,
          "metadata": {},
          "output_type": "execute_result"
        }
      ],
      "source": [
        "def hyphenate(a, b):\n",
        "    # return statements immediately return a value (or None if no value is given)\n",
        "    return a + '-' + b\n",
        "    # Any code in the function after the return statement does not get executed.\n",
        "    print(\"We will never get here\")\n",
        "\n",
        "hyphenate('python', 'esque')"
      ]
    },
    {
      "cell_type": "markdown",
      "id": "f505cb17",
      "metadata": {
        "id": "f505cb17"
      },
      "source": [
        "Suppose that separating large data files into individual yearly files is a task that we frequently have to perform. We could write a `for` loop like the one above every time we needed to do it but that would be time consuming and error prone. A more elegant solution would be to create a reusable tool that performs this task with minimum input from the user. To do this, we are going to turn the code we’ve already written into a function.\n",
        "\n",
        "Functions are reusable, self-contained pieces of code that are called with a single command. They can be designed to accept arguments as input and return values, but they don’t need to do either. Variables declared inside functions only exist while the function is running and if a variable within the function (a local variable) has the same name as a variable somewhere else in the code, the local variable hides but doesn’t overwrite the other.\n",
        "\n",
        "Every method used in Python (for example, `print`) is a function, and the libraries we import (say, `pandas`) are a collection of functions. We will only use functions that are housed within the same code that uses them, but it’s also easy to write functions that can be used by different programs."
      ]
    },
    {
      "cell_type": "markdown",
      "id": "0fde9a5c",
      "metadata": {
        "id": "0fde9a5c"
      },
      "source": [
        "Functions are declared following this general structure:"
      ]
    },
    {
      "cell_type": "markdown",
      "id": "1224d373",
      "metadata": {
        "id": "1224d373"
      },
      "source": [
        "```python\n",
        "def this_is_the_function_name(input_argument1, input_argument2):\n",
        "\n",
        "    # The body of the function is indented\n",
        "    # This function prints the two arguments to screen\n",
        "    print('The function arguments are:', input_argument1, input_argument2, '(this is done inside the function!)')\n",
        "\n",
        "    # And returns their product\n",
        "    return input_argument1 * input_argument2\n",
        "```\n",
        "\n",
        "The function declaration starts with the word `def`, followed by the function name and any arguments in parenthesis, and ends in a colon. The body of the function is indented just like loops are. If the function returns something when it is called, it includes a return statement at the end.\n",
        "\n",
        "\n",
        "Let's rewrite this function with shorter (but still informative) names so we don't need to type as much:"
      ]
    },
    {
      "cell_type": "code",
      "execution_count": null,
      "id": "bd18d4d8",
      "metadata": {
        "id": "bd18d4d8"
      },
      "outputs": [],
      "source": [
        "def product(a, b):\n",
        "    print('The function arguments are:', a, b, '(this is done inside the function!)')\n",
        "\n",
        "    return a * b"
      ]
    },
    {
      "cell_type": "markdown",
      "id": "2338ba51",
      "metadata": {
        "id": "2338ba51"
      },
      "source": [
        "This is how we call the function:"
      ]
    },
    {
      "cell_type": "code",
      "execution_count": null,
      "id": "36338716",
      "metadata": {
        "id": "36338716",
        "outputId": "9fefe84f-a360-4c77-a19d-8584d4c5aeb2"
      },
      "outputs": [
        {
          "name": "stdout",
          "output_type": "stream",
          "text": [
            "The function arguments are: 2 5 (this is done inside the function!)\n"
          ]
        }
      ],
      "source": [
        "product_of_inputs = product(2, 5)"
      ]
    },
    {
      "cell_type": "code",
      "execution_count": null,
      "id": "3fa925cd",
      "metadata": {
        "id": "3fa925cd",
        "outputId": "7132a06f-65d6-4067-88d1-3c6e738d7f7a"
      },
      "outputs": [
        {
          "name": "stdout",
          "output_type": "stream",
          "text": [
            "Their product is: 10 (this is done outside the function!)\n"
          ]
        }
      ],
      "source": [
        "print('Their product is:', product_of_inputs, '(this is done outside the function!)')"
      ]
    },
    {
      "cell_type": "markdown",
      "id": "e89fd8d0",
      "metadata": {
        "tags": [
          "challenge"
        ],
        "id": "e89fd8d0"
      },
      "source": [
        "## Challenge - Functions\n",
        "\n",
        "1. Change the values of the input arguments in the function and check its output.\n",
        "\n",
        "2. Try calling the function by giving it the wrong number of arguments (not 2) or not assigning the function call to a variable (no `product_of_inputs =`).\n",
        "\n",
        "### Bonus challenges\n",
        "\n",
        "3. Declare a variable inside the function and test to see where it exists (Hint: can you print it from outside the function?).\n",
        "\n",
        "4. Explore what happens when a variable both inside and outside the function have the same name. What happens to the global variable when you change the value of the local variable?"
      ]
    },
    {
      "cell_type": "markdown",
      "id": "33e70674",
      "metadata": {
        "tags": [
          "solution"
        ],
        "id": "33e70674"
      },
      "source": [
        "## Solutions - Functions"
      ]
    },
    {
      "cell_type": "code",
      "execution_count": null,
      "id": "bd6dbe0c",
      "metadata": {
        "tags": [
          "solution"
        ],
        "id": "bd6dbe0c",
        "outputId": "718a3198-2791-4b27-883f-c3539b2386b3"
      },
      "outputs": [
        {
          "name": "stdout",
          "output_type": "stream",
          "text": [
            "The function arguments are: 2 6 (this is done inside the function!)\n",
            "12\n"
          ]
        }
      ],
      "source": [
        "# Challenge part 1\n",
        "product_of_inputs = product(2, 6)\n",
        "print(product_of_inputs)"
      ]
    },
    {
      "cell_type": "markdown",
      "id": "794cc7a7",
      "metadata": {
        "tags": [
          "solution"
        ],
        "id": "794cc7a7"
      },
      "source": [
        "Challenge part 2:\n",
        "\n",
        "```python\n",
        "product(2, 6, \"nope\")\n",
        "```"
      ]
    },
    {
      "cell_type": "markdown",
      "id": "5cfc61c2",
      "metadata": {
        "tags": [
          "solution"
        ],
        "id": "5cfc61c2"
      },
      "source": [
        "```python\n",
        "---------------------------------------------------------------------------\n",
        "TypeError                                 Traceback (most recent call last)\n",
        "<ipython-input-12-fe9d9cd35fe2> in <module>()\n",
        "      1 # 2\n",
        "----> 2 this_is_the_function_name(2, 6, \"nope\")\n",
        "\n",
        "TypeError: this_is_the_function_name() takes 2 positional arguments but 3 were given\n",
        "```"
      ]
    },
    {
      "cell_type": "markdown",
      "id": "beccccdc",
      "metadata": {
        "tags": [
          "solution"
        ],
        "id": "beccccdc"
      },
      "source": [
        "Challenge part 3:\n",
        "\n",
        "```python\n",
        "def product(a, b):\n",
        "    \n",
        "    inside_fun = \"existential crisis\"\n",
        "    print('The function arguments are:', a, b, '(this is done inside the function!)')\n",
        "    \n",
        "    return a * b\n",
        "\n",
        "product(2, 5)\n",
        "print(inside_fun)\n",
        "```"
      ]
    },
    {
      "cell_type": "markdown",
      "id": "79762370",
      "metadata": {
        "tags": [
          "solution"
        ],
        "id": "79762370"
      },
      "source": [
        "```python\n",
        "The function arguments are: 2 5 (this is done inside the function!)\n",
        "---------------------------------------------------------------------------\n",
        "NameError                                 Traceback (most recent call last)\n",
        "<ipython-input-13-e7a0563b00a6> in <module>()\n",
        "     12 \n",
        "     13 this_is_the_function_name(2, 5)\n",
        "---> 14 print(inside_fun)\n",
        "\n",
        "NameError: name 'inside_fun' is not defined\n",
        "```"
      ]
    },
    {
      "cell_type": "code",
      "execution_count": null,
      "id": "53e1217b",
      "metadata": {
        "tags": [
          "solution"
        ],
        "id": "53e1217b",
        "outputId": "40c2d803-f86c-46a7-eeda-bf5440155faf"
      },
      "outputs": [
        {
          "name": "stdout",
          "output_type": "stream",
          "text": [
            "The function arguments are: 2 5 (this is done inside the function!)\n",
            "unchanged\n"
          ]
        }
      ],
      "source": [
        "# Challenge part 4\n",
        "outside = \"unchanged\"\n",
        "def product(a, b):\n",
        "    \n",
        "    outside = \"I'm being manipulated\"\n",
        "    print('The function arguments are:', a, b, '(this is done inside the function!)')\n",
        "\n",
        "    return a * b\n",
        "\n",
        "product(2, 5)\n",
        "print(outside)"
      ]
    },
    {
      "cell_type": "markdown",
      "id": "6006903c",
      "metadata": {
        "id": "6006903c"
      },
      "source": [
        "Say we had some code for taking our `survey.csv` data and splitting it out into one file for each year:\n",
        "\n",
        "```python\n",
        "# First let's make sure we've read the survey data into a pandas DataFrame.\n",
        "import pandas as pd\n",
        "all_data = pd.read_csv(\"surveys.csv\")\n",
        "\n",
        "this_year = 2002\n",
        "# Select data for just that year\n",
        "surveys_year = all_data[all_data.year == this_year]\n",
        "\n",
        "# Write the new DataFrame to a csv file\n",
        "filename = 'surveys' + str(this_year) + '.csv'\n",
        "surveys_year.to_csv(filename)\n",
        "```\n",
        "\n",
        "There are many different \"chunks\" of this code that we can turn into functions, and we can even create functions that call other functions inside them. Let’s first write a function that separates data for just one year and saves that data to a file:"
      ]
    },
    {
      "cell_type": "code",
      "execution_count": null,
      "id": "a1780169",
      "metadata": {
        "id": "a1780169"
      },
      "outputs": [],
      "source": [
        "def year_to_csv(year, all_data):\n",
        "    \"\"\"\n",
        "    Writes a csv file for data from a given year.\n",
        "\n",
        "    year --- year for which data is extracted\n",
        "    all_data --- DataFrame with multi-year data\n",
        "    \"\"\"\n",
        "\n",
        "    # Select data for the year\n",
        "    surveys_year = all_data[all_data.year == year]\n",
        "\n",
        "    # Write the new DataFrame to a csv file\n",
        "    filename = 'function_surveys' + str(year) + '.csv'\n",
        "    surveys_year.to_csv(filename)"
      ]
    },
    {
      "cell_type": "markdown",
      "id": "6ddb315c",
      "metadata": {
        "id": "6ddb315c"
      },
      "source": [
        "The text between the two sets of triple double quotes is called a _docstring_ and contains the documentation for the function. It does nothing when the function is running and is therefore not necessary, but it is good practice to include docstrings as a reminder of what the code does. Docstrings in functions also become part of their ‘official’ documentation:"
      ]
    },
    {
      "cell_type": "code",
      "execution_count": null,
      "id": "cfd4a72e",
      "metadata": {
        "id": "cfd4a72e"
      },
      "outputs": [],
      "source": [
        "?year_to_csv"
      ]
    },
    {
      "cell_type": "markdown",
      "id": "08b297b6",
      "metadata": {
        "id": "08b297b6"
      },
      "source": [
        "**Signature:** `year_to_csv(year, all_data)`\n",
        "\n",
        "***Docstring:***\n",
        "```\n",
        "Writes a csv file for data from a given year.\n",
        "\n",
        "year --- year for which data is extracted\n",
        "all_data --- DataFrame with multi-year data\n",
        "```\n",
        "\n",
        "***File:***      `~/devel/python-workshop-base/workshops/docs/modules/notebooks/<ipython-input-16-978149c5937c>`\n",
        "\n",
        "***Type:***      `function`"
      ]
    },
    {
      "cell_type": "code",
      "execution_count": null,
      "id": "99aed3a9",
      "metadata": {
        "id": "99aed3a9"
      },
      "outputs": [],
      "source": [
        "# Read the survey data into a pandas DataFrame.\n",
        "# (if you are jumping in to just this lesson and don't yet have the surveys.csv file yet, \n",
        "#  see the \"Data analysis in Python with Pandas\" `working_with_data` module)\n",
        "import pandas as pd\n",
        "surveys_df = pd.read_csv(\"surveys.csv\")\n",
        "\n",
        "year_to_csv(2002, surveys_df)"
      ]
    },
    {
      "cell_type": "markdown",
      "id": "330d0e68",
      "metadata": {
        "tags": [
          "protip",
          "aside"
        ],
        "id": "330d0e68"
      },
      "source": [
        "### Aside - listing files and the `os` module\n",
        "\n",
        "Google Collaboratory and Juypter Notebooks have a built-in file browser, however, you can list the files and directories in the current directory (\"folder\") with Python code like:\n",
        "\n",
        "```python\n",
        "import os\n",
        "\n",
        "print(os.listdir())\n",
        "```\n",
        "\n",
        "You'll see a Python list, a bit like:\n",
        "\n",
        "```\n",
        "['surveys.csv','function_surveys2002.csv']\n",
        "```\n",
        "\n",
        "(you may have additional files listed here, generated in previous lessons)\n",
        "\n",
        "The [os](https://docs.python.org/3/library/os.html) module contains, among other things, a bunch of useful functions for working with the filesystem and file paths.\n",
        "\n",
        "Two other useful examples (hint - these might help in a upcoming challenge):\n",
        "\n",
        "```python\n",
        "# This returns True if the file or directory specified exists\n",
        "os.path.exists('surveys.csv')\n",
        "```\n",
        "\n",
        "```python\n",
        "# This creates empty (nested) directories based on a path (eg in a 'path' each directory is separated by slashes)\n",
        "os.makedirs('data/csvs/')\n",
        "```\n",
        "\n",
        "If a directory already exists, `os.makedirs` fails and produces an error message (in Python terminology we might say it 'raises an exception' ).\n",
        "\n",
        "We can avoid this by using `os.path.exists` and `os.makedirs` together like:\n",
        "```python\n",
        "if not os.path.exists('data/csvs/'):\n",
        "    os.makedirs('data/csvs/')\n",
        "```"
      ]
    },
    {
      "cell_type": "markdown",
      "id": "3432d64c",
      "metadata": {
        "id": "3432d64c"
      },
      "source": [
        "What we really want to do, though, is create files for multiple years without having to request them one by one. Let’s write another function that uses a `for` loop over a sequence of years and repeatedly calls the function we just wrote, `year_to_csv`:"
      ]
    },
    {
      "cell_type": "code",
      "execution_count": null,
      "id": "58d3c18a",
      "metadata": {
        "id": "58d3c18a"
      },
      "outputs": [],
      "source": [
        "def create_csvs_by_year(start_year, end_year, all_data):\n",
        "    \"\"\"\n",
        "    Writes separate CSV files for each year of data.\n",
        "\n",
        "    start_year --- the first year of data we want\n",
        "    end_year --- the last year of data we want\n",
        "    all_data --- DataFrame with multi-year data\n",
        "    \"\"\"\n",
        "\n",
        "    # \"end_year\" is the last year of data we want to pull, so we loop to end_year+1\n",
        "    for year in range(start_year, end_year+1):\n",
        "        year_to_csv(year, all_data)"
      ]
    },
    {
      "cell_type": "markdown",
      "id": "deae1d0f",
      "metadata": {
        "id": "deae1d0f"
      },
      "source": [
        "Because people will naturally expect that the end year for the files is the last year with data, the `for` loop inside the function ends at `end_year + 1`. By writing the entire loop into a function, we’ve made a reusable tool for whenever we need to break a large data file into yearly files. Because we can specify the first and last year for which we want files, we can even use this function to create files for a subset of the years available. This is how we call this function:"
      ]
    },
    {
      "cell_type": "code",
      "execution_count": null,
      "id": "228db729",
      "metadata": {
        "id": "228db729"
      },
      "outputs": [],
      "source": [
        "# Create CSV files, one for each year in the given range\n",
        "create_csvs_by_year(1977, 2002, surveys_df)"
      ]
    },
    {
      "cell_type": "markdown",
      "id": "cdf453aa",
      "metadata": {
        "tags": [
          "challenge"
        ],
        "id": "cdf453aa"
      },
      "source": [
        "## Challenge - More Functions\n",
        "\n",
        "1. How could you use the function `create_csvs_by_year` to create a CSV file for only one year ? (Hint: think about the syntax for range)\n",
        "\n",
        "2. Modify `year_to_csv` so that it has two additional arguments, `output_path` (the path of the directory where the files will be written) and `filename_prefix` (a prefix to be added to the start of the file name). Name your new function `year_to_csv_at_path`. Eg, `def year_to_csv_at_path(year, all_data, output_path, filename_prefix):`. Call your new function to create a new file with a different name in a different directory. ... **Hint:** You could manually create the target directory before calling the function using the Collaboratory / Jupyter file browser, *or* for bonus points you could do it in Python inside the function using the `os` module.\n",
        "\n",
        "3. Create a new version of the `create_csvs_by_year` function called `create_csvs_by_year_at_path` that also takes the additional arguments `output_path` and `filename_prefix`. Internally `create_csvs_by_year_at_path` should pass these values to `year_to_csv_at_path`. Call your new function to create a new set of files with a different name in a different directory.\n",
        "\n",
        "4. Make these new functions return a list of the files they have written. There are many ways you can do this (and you should try them all!): you could make the function print the filenames to screen, or you could use a `return` statement to make the function produce a list of filenames, or you can use some combination of the two. You could also try using the `os` library to list the contents of directories."
      ]
    },
    {
      "cell_type": "markdown",
      "id": "f7c23148",
      "metadata": {
        "tags": [
          "solution"
        ],
        "id": "f7c23148"
      },
      "source": [
        "## Solutions - More Functions"
      ]
    },
    {
      "cell_type": "code",
      "execution_count": null,
      "id": "51a1c961",
      "metadata": {
        "tags": [
          "solution"
        ],
        "id": "51a1c961"
      },
      "outputs": [],
      "source": [
        "# Solution - part 1\n",
        "create_csvs_by_year(2002, 2002, surveys_df)"
      ]
    },
    {
      "cell_type": "code",
      "execution_count": null,
      "id": "dd6d33f4",
      "metadata": {
        "tags": [
          "solution"
        ],
        "id": "dd6d33f4"
      },
      "outputs": [],
      "source": [
        "# Solution - part 2 and 3\n",
        "import os\n",
        "\n",
        "def year_to_csv_at_path(year, all_data, output_path, filename_prefix):\n",
        "    \"\"\"\n",
        "    Writes a csv file for data from a given year.\n",
        "\n",
        "    year --- year for which data is extracted\n",
        "    all_data --- DataFrame with multi-year data\n",
        "    output_path --- The output path for the generated file\n",
        "    filename_prefix --- Output filename will be of the form \"{filename_prefix}{year}.csv\"\n",
        "    \"\"\"\n",
        "\n",
        "    # Select data for the year\n",
        "    surveys_year = all_data[all_data.year == year]\n",
        "\n",
        "    # Create directories if required\n",
        "    if not os.path.exists(output_path):\n",
        "        os.makedirs(output_path)\n",
        "    \n",
        "    # Write the new DataFrame to a csv file\n",
        "    filename = output_path + '/' + filename_prefix + str(year) + '.csv'\n",
        "    surveys_year.to_csv(filename)\n",
        "\n",
        "def create_csvs_by_year_at_path(start_year, end_year, all_data, output_path, filename_prefix):\n",
        "    \"\"\"\n",
        "    Writes separate CSV files for each year of data.\n",
        "\n",
        "    start_year --- the first year of data we want\n",
        "    end_year --- the last year of data we want\n",
        "    all_data --- DataFrame with multi-year data\n",
        "    output_path --- The output path for the generated file\n",
        "    filename_prefix --- Output filename will be of the form \"{filename_prefix}{year}.csv\"\n",
        "    \"\"\"\n",
        "\n",
        "    # \"end_year\" is the last year of data we want to pull, so we loop to end_year+1\n",
        "    for year in range(start_year, end_year+1):\n",
        "        year_to_csv_at_path(year, all_data, output_path, filename_prefix)"
      ]
    },
    {
      "cell_type": "code",
      "execution_count": null,
      "id": "710db1d6",
      "metadata": {
        "tags": [
          "solution"
        ],
        "id": "710db1d6",
        "outputId": "52ff9966-9f95-425c-b7f1-c369b6f8aac7"
      },
      "outputs": [
        {
          "name": "stdout",
          "output_type": "stream",
          "text": [
            "['function_surveys2000.csv', 'function_surveys2001.csv', 'function_surveys2002.csv']\n"
          ]
        }
      ],
      "source": [
        "# Solution - part 4\n",
        "\n",
        "def year_to_csv_return_filenames(year, all_data):\n",
        "    # Select data for the year\n",
        "    surveys_year = all_data[all_data.year == year]\n",
        "\n",
        "    # Write the new DataFrame to a csv file\n",
        "    filename = 'function_surveys' + str(year) + '.csv'\n",
        "    surveys_year.to_csv(filename)\n",
        "    \n",
        "    # We could just print the filename. We can see the result, but won't capture the value\n",
        "    # print(filename)\n",
        "    \n",
        "    # It's often more useful to return data rather than print it, so we can do something with it\n",
        "    return filename\n",
        "\n",
        "def create_csvs_by_year_return_filenames(start_year, end_year, all_data):\n",
        "    \n",
        "    generated_files = []\n",
        "    for year in range(start_year, end_year+1):\n",
        "        fn = year_to_csv_return_filenames(year, all_data)\n",
        "        generated_files.append(fn)\n",
        "        \n",
        "    return generated_files\n",
        "\n",
        "print(create_csvs_by_year_return_filenames(2000, 2002, surveys_df))"
      ]
    },
    {
      "cell_type": "markdown",
      "id": "b3c25d3d",
      "metadata": {
        "id": "b3c25d3d"
      },
      "source": [
        "The functions we wrote demand that we give them a value for every argument. Ideally, we would like these functions to be as flexible and independent as possible. Let’s modify the function `create_csvs_by_year` so that the `start_year` and `end_year` default to the full range of the data if they are not supplied by the user. \n",
        "\n",
        "Arguments can be given default values with an equal sign in the function declaration - we call these **'keyword'** arguments. Any argument in the function without a default value (here, `all_data`) is a required argument - we call these **'positional'** arguments. Positional arguements MUST come before any keyword arguments. Keyword arguments are optional - if you don't include them when calling the function, the default value is used."
      ]
    },
    {
      "cell_type": "code",
      "execution_count": null,
      "id": "4fa248f2",
      "metadata": {
        "id": "4fa248f2",
        "outputId": "25d366f9-e97e-4157-94ae-fba39e6d9b44"
      },
      "outputs": [
        {
          "name": "stdout",
          "output_type": "stream",
          "text": [
            "Both optional arguments:\t 1988 1993\n",
            "Default values:\t\t\t 1977 2002\n"
          ]
        }
      ],
      "source": [
        "def keyword_arg_test(all_data, start_year = 1977, end_year = 2002):\n",
        "    \"\"\"\n",
        "    A simple function to demonstrate the use of keyword arguments with defaults !\n",
        "\n",
        "    start_year --- the first year of data we want --- default: 1977\n",
        "    end_year --- the last year of data we want --- default: 2002\n",
        "    all_data --- DataFrame with multi-year data - not actually used\n",
        "    \"\"\"\n",
        "\n",
        "    return start_year, end_year\n",
        "\n",
        "\n",
        "start,end = keyword_arg_test(surveys_df, 1988, 1993)\n",
        "print('Both optional arguments:\\t', start, end)\n",
        "\n",
        "start,end = keyword_arg_test(surveys_df)\n",
        "print('Default values:\\t\\t\\t', start, end)"
      ]
    },
    {
      "cell_type": "markdown",
      "id": "831d6054",
      "metadata": {
        "id": "831d6054"
      },
      "source": [
        "The `\\t` in the print statements are tabs, used to make the text align and be easier to read.\n",
        "\n",
        "What if our dataset doesn’t start in 1977 and end in 2002? We can modify the function so that it looks for the ealiest and latest years in the dataset if those dates are not provided. Let's redefine `csvs_by_year`:"
      ]
    },
    {
      "cell_type": "code",
      "execution_count": null,
      "id": "832de882",
      "metadata": {
        "id": "832de882",
        "outputId": "4502268b-4540-49da-e5bd-5021df54234e"
      },
      "outputs": [
        {
          "name": "stdout",
          "output_type": "stream",
          "text": [
            "Both optional arguments:\t 1988 1993\n",
            "Default values:\t\t\t 1977 2002\n"
          ]
        }
      ],
      "source": [
        "def csvs_by_year(all_data, start_year = None, end_year = None):\n",
        "    \"\"\"\n",
        "    Writes separate CSV files for each year of data. The start year and end year can \n",
        "    be optionally provided, otherwise the earliest and latest year in the dataset are\n",
        "    used as the range.\n",
        "\n",
        "    start_year --- the first year of data we want --- default: None - check all_data\n",
        "    end_year --- the last year of data we want --- default: None - check all_data\n",
        "    all_data --- DataFrame with multi-year data\n",
        "    \"\"\"\n",
        "\n",
        "    if start_year is None:\n",
        "        start_year = min(all_data.year)\n",
        "    if end_year is None:\n",
        "        end_year = max(all_data.year)\n",
        "\n",
        "    return start_year, end_year\n",
        "\n",
        "\n",
        "start,end = csvs_by_year(surveys_df, 1988, 1993)\n",
        "print('Both optional arguments:\\t', start, end)\n",
        "\n",
        "start,end = csvs_by_year(surveys_df)\n",
        "print('Default values:\\t\\t\\t', start, end)"
      ]
    },
    {
      "cell_type": "markdown",
      "id": "d43068dc",
      "metadata": {
        "id": "d43068dc"
      },
      "source": [
        "The default values of the `start_year` and `end_year` arguments in this new version of the `csvs_by_year` function are now `None`. This is a built-in constant in Python that indicates the absence of a value - essentially, that the variable exists in the namespace of the function (the directory of variable names) but that it doesn’t correspond to any existing object."
      ]
    },
    {
      "cell_type": "markdown",
      "id": "86909a76",
      "metadata": {
        "tags": [
          "challenge"
        ],
        "id": "86909a76"
      },
      "source": [
        "## Challenge - Experimenting with keyword arguments\n",
        "\n",
        "1. What type of object corresponds to a variable declared as `None` ? (Hint: create a variable set to None and use the function `type()`)\n",
        "\n",
        "2. Compare the behavior of the function `csvs_by_year` when the keyword arguments have `None` as a default vs. calling the function by supplying (non-default) values to the keyword arguments\n",
        "\n",
        "3. What happens if you only include a value for `start_year` in the function call? Can you write the function call with only a value for `end_year` ? (Hint: think about how the function must be assigning values to each of the arguments - this is related to the need to put the arguments without default values before those with default values in the function definition!)"
      ]
    },
    {
      "cell_type": "markdown",
      "id": "b21daade",
      "metadata": {
        "tags": [
          "solution"
        ],
        "id": "b21daade"
      },
      "source": [
        "## Solutions - Experimenting with keyword arguments"
      ]
    },
    {
      "cell_type": "code",
      "execution_count": null,
      "id": "36f131d6",
      "metadata": {
        "tags": [
          "solution"
        ],
        "id": "36f131d6",
        "outputId": "1100f966-e567-452f-af8f-755bc4307352"
      },
      "outputs": [
        {
          "data": {
            "text/plain": [
              "NoneType"
            ]
          },
          "execution_count": 18,
          "metadata": {},
          "output_type": "execute_result"
        }
      ],
      "source": [
        "# Challenge 1\n",
        "the_void = None\n",
        "type(the_void)"
      ]
    },
    {
      "cell_type": "code",
      "execution_count": null,
      "id": "2c4863fc",
      "metadata": {
        "tags": [
          "solution"
        ],
        "id": "2c4863fc",
        "outputId": "43b3ec0c-aeac-492e-ddb7-6680cde95e53"
      },
      "outputs": [
        {
          "name": "stdout",
          "output_type": "stream",
          "text": [
            "(1977, 2002)\n",
            "(1999, 2001)\n"
          ]
        }
      ],
      "source": [
        "# Challenge 2\n",
        "print(csvs_by_year(surveys_df))\n",
        "print(csvs_by_year(surveys_df, start_year=1999, end_year=2001))"
      ]
    },
    {
      "cell_type": "code",
      "execution_count": null,
      "id": "04590dec",
      "metadata": {
        "tags": [
          "solution"
        ],
        "id": "04590dec",
        "outputId": "61953710-bc48-4e88-df01-57bbe3293da2"
      },
      "outputs": [
        {
          "name": "stdout",
          "output_type": "stream",
          "text": [
            "(1999, 2002)\n",
            "(1999, 2002)\n",
            "(1999, 2001)\n",
            "(1977, 1999)\n",
            "(1999, 2001)\n"
          ]
        }
      ],
      "source": [
        "# Challenge 3\n",
        "print(csvs_by_year(surveys_df, start_year=1999))\n",
        "\n",
        "# Keyword args are taken in order if there is no keyword used\n",
        "# Doing this is a bit dangerous (what if you later decide to add more keyword args to the function ?)\n",
        "print(csvs_by_year(surveys_df, 1999))\n",
        "print(csvs_by_year(surveys_df, 1999, end_year=2001))\n",
        "\n",
        "# But keyword args must always come last - this throws an error\n",
        "# print(csvs_by_year(surveys_df, start_year=1999, 2001))\n",
        "\n",
        "# We don't need to specify all keyword args, nor do they need to be in order\n",
        "print(csvs_by_year(surveys_df, end_year=1999))\n",
        "print(csvs_by_year(surveys_df, end_year=2001, start_year=1999))"
      ]
    },
    {
      "cell_type": "markdown",
      "id": "b0825567",
      "metadata": {
        "id": "b0825567"
      },
      "source": [
        "## Conditionals - `if` statements"
      ]
    },
    {
      "cell_type": "markdown",
      "id": "2c43095f",
      "metadata": {
        "id": "2c43095f"
      },
      "source": [
        "The body of the test function now has two conditionals (`if` statements) that check the values of `start_year` and `end_year`. `if` statements execute a segment of code when some condition is met. They commonly look something like this:"
      ]
    },
    {
      "cell_type": "code",
      "execution_count": null,
      "id": "a7cb5f4b",
      "metadata": {
        "id": "a7cb5f4b",
        "outputId": "dcb9f65d-229d-4215-b010-c20c8b202331"
      },
      "outputs": [
        {
          "name": "stdout",
          "output_type": "stream",
          "text": [
            "a is a positive number\n"
          ]
        }
      ],
      "source": [
        "a = 5\n",
        "\n",
        "if a < 0:  # Meets first condition?\n",
        "\n",
        "    # if a IS less than zero\n",
        "    print('a is a negative number')\n",
        "\n",
        "elif a > 0:  # Did not meet first condition. meets second condition?\n",
        "\n",
        "    # if a ISN'T less than zero and IS more than zero\n",
        "    print('a is a positive number')\n",
        "\n",
        "else:  # Met neither condition\n",
        "\n",
        "    # if a ISN'T less than zero and ISN'T more than zero\n",
        "    print('a must be zero!')"
      ]
    },
    {
      "cell_type": "markdown",
      "id": "7fe5008a",
      "metadata": {
        "id": "7fe5008a"
      },
      "source": [
        "Change the value of `a` to see how this function works. The statement `elif` means “else if”, and all of the conditional statements must end in a colon.\n",
        "\n",
        "The `if` statements in the function `csvs_by_year` check whether there is an object associated with the variable names `start_year` and `end_year`. If those variables are `None`, the `if` statements return the boolean `True` and execute whatever is in their body. On the other hand, if the variable names are associated with some value (they got a number in the function call), the `if` statements return `False` and do not execute. The opposite conditional statements, which would return `True` if the variables were associated with objects (if they had received value in the function call), would be `if start_year` and `if end_year`.\n",
        "\n",
        "As we’ve written it so far, the function `csvs_by_year` associates values in the function call with arguments in the function definition just based in their order. If the function gets only two values in the function call, the first one will be associated with `all_data` and the second with `start_year`, regardless of what we intended them to be. We can get around this problem by calling the function using keyword arguments, where each of the arguments in the function definition is associated with a keyword and the function call passes values to the function using these keywords:"
      ]
    },
    {
      "cell_type": "code",
      "execution_count": null,
      "id": "bc085c32",
      "metadata": {
        "id": "bc085c32",
        "outputId": "88fecb97-d568-43e9-8045-d0ddffbb1713"
      },
      "outputs": [
        {
          "name": "stdout",
          "output_type": "stream",
          "text": [
            "Default values:\t\t\t 1977 2002\n",
            "No keywords:\t\t\t 1988 1993\n",
            "Both keywords, in order:\t 1988 1993\n",
            "Both keywords, flipped:\t\t 1988 1993\n",
            "One keyword, default end:\t 1988 2002\n",
            "One keyword, default start:\t 1977 1993\n"
          ]
        }
      ],
      "source": [
        "start,end = csvs_by_year(surveys_df)\n",
        "print('Default values:\\t\\t\\t', start, end)\n",
        "\n",
        "start,end = csvs_by_year(surveys_df, 1988, 1993)\n",
        "print('No keywords:\\t\\t\\t', start, end)\n",
        "\n",
        "start,end = csvs_by_year(surveys_df, start_year = 1988, end_year = 1993)\n",
        "print('Both keywords, in order:\\t', start, end)\n",
        "\n",
        "start,end = csvs_by_year(surveys_df, end_year = 1993, start_year = 1988)\n",
        "print('Both keywords, flipped:\\t\\t', start, end)\n",
        "\n",
        "start,end = csvs_by_year(surveys_df, start_year = 1988)\n",
        "print('One keyword, default end:\\t', start, end)\n",
        "\n",
        "start,end = csvs_by_year(surveys_df, end_year = 1993)\n",
        "print('One keyword, default start:\\t', start, end)"
      ]
    },
    {
      "cell_type": "markdown",
      "id": "7ddc8d17",
      "metadata": {
        "tags": [
          "challenge"
        ],
        "id": "7ddc8d17"
      },
      "source": [
        "## Multiple choice challenge\n",
        "\n",
        "What output would you expect from the `if` statement (try to figure out the answer without running the code):\n",
        "\n",
        "```python\n",
        "pod_bay_doors_open = False\n",
        "dave_want_doors_open = False\n",
        "hal_insanity_level = 2001\n",
        "\n",
        "if not pod_bay_doors_open:\n",
        "    print(\"Dave: Open the pod bay doors please HAL.\")\n",
        "    dave_wants_doors_open = True\n",
        "elif pod_bay_doors_open and hal_insanity_level >= 95:\n",
        "    print(\"HAL: I'm closing the pod bay doors, Dave.\")\n",
        "    \n",
        "if dave_wants_doors_open and not pod_bay_doors_open and hal_insanity_level >= 95:\n",
        "    print(\"HAL: I’m sorry, Dave. I’m afraid I can’t do that.\")\n",
        "elif dave_wants_doors_open and not pod_bay_doors_open:\n",
        "    print(\"HAL: I'm opening the pod bay doors, welcome back Dave.\")\n",
        "else:\n",
        "    print(\"... silence of space ...\")\n",
        "```\n",
        "\n",
        "**a)** \"HAL: I'm closing the pod bay doors, Dave.\", \"... silence of space ...\"\n",
        "\n",
        "**b)** \"Dave: Open the pod bay doors please HAL.\", \"HAL: I’m sorry, Dave. I’m afraid I can’t do that.\"\n",
        "\n",
        "**c)** \"... silence of space ...\"\n",
        "\n",
        "**d)** \"Dave: Open the pod bay doors please HAL.\", HAL: \"I'm opening the pod bay doors, welcome back Dave.\""
      ]
    },
    {
      "cell_type": "markdown",
      "id": "c29dd8e9",
      "metadata": {
        "tags": [
          "solution"
        ],
        "id": "c29dd8e9"
      },
      "source": [
        "**Option (b)**"
      ]
    },
    {
      "cell_type": "markdown",
      "id": "8f64a6ae",
      "metadata": {
        "tags": [
          "challenge"
        ],
        "id": "8f64a6ae"
      },
      "source": [
        "## Bonus Challenge - Modifying functions\n",
        "\n",
        "1. Rewrite the `year_to_csv` and `csvs_by_year` functions to have keyword arguments with default values.\n",
        "\n",
        "2. Modify the functions so that they don’t create yearly files if there is no data for a given year and display an alert to the user (Hint: use conditional statements to do this. For an extra challenge, use `try` statements !).\n",
        "\n",
        "3. The code below checks to see whether a directory exists and creates one if it doesn’t. Add some code to your function that writes out the CSV files, to check for a directory to write to.\n",
        "\n",
        "```python\n",
        "import os\n",
        "\n",
        "if 'dir_name_here' in os.listdir():\n",
        "   print('Processed directory exists')\n",
        "else:\n",
        "   os.mkdir('dir_name_here')\n",
        "   print('Processed directory created')\n",
        "```\n",
        "\n",
        "`4.` The code that you have written so far to loop through the years is good, however it is not necessarily reproducible with different datasets. For instance, what happens to the code if we have additional years of data in our CSV files? Using the tools that you learned in the previous activities, make a list of all years represented in the data. Then create a loop to process your data, that begins at the earliest year and ends at the latest year using that list.\n",
        "\n",
        "_HINT:_ you can create a loop with a list as follows: `for years in year_list:`"
      ]
    },
    {
      "cell_type": "markdown",
      "id": "e1f38ff4",
      "metadata": {
        "tags": [
          "solution"
        ],
        "id": "e1f38ff4"
      },
      "source": [
        "## Solutions - Modifying functions"
      ]
    },
    {
      "cell_type": "code",
      "execution_count": null,
      "id": "7bcd6fd9",
      "metadata": {
        "tags": [
          "solution"
        ],
        "id": "7bcd6fd9"
      },
      "outputs": [],
      "source": [
        "# Solution - part 1\n",
        "\n",
        "def year_to_csv(year=None, all_data=None):\n",
        "    \"\"\"\n",
        "    Writes a csv file for data from a given year.\n",
        "\n",
        "    year --- year for which data is extracted\n",
        "    all_data --- DataFrame with multi-year data\n",
        "    \"\"\"\n",
        "\n",
        "    if all_data is None:\n",
        "        all_data = pd.read_csv(\"surveys.csv\")\n",
        "    \n",
        "    if year is None:\n",
        "        year = min(all_data.year)\n",
        "    \n",
        "    # Select data for the year\n",
        "    surveys_year = all_data[all_data.year == year]\n",
        "\n",
        "    # Write the new DataFrame to a csv file\n",
        "    filename = 'function_surveys' + str(year) + '.csv'\n",
        "    surveys_year.to_csv(filename)\n",
        "    \n",
        "    \n",
        "def csvs_by_year(start_year=None, end_year=None, all_data=None):\n",
        "    \"\"\"\n",
        "    Writes separate CSV files for each year of data.\n",
        "\n",
        "    start_year --- the first year of data we want\n",
        "    end_year --- the last year of data we want\n",
        "    all_data --- DataFrame with multi-year data\n",
        "    \"\"\"\n",
        "    \n",
        "    if all_data is None:\n",
        "        all_data = pd.read_csv(\"surveys.csv\")\n",
        "    \n",
        "    if start_year is None:\n",
        "        start_year = min(all_data.year)\n",
        "        \n",
        "    if end_year is None:\n",
        "        end_year = max(all_data.year)\n",
        "\n",
        "    # \"end_year\" is the last year of data we want to pull, so we loop to end_year+1\n",
        "    for year in range(start_year, end_year+1):\n",
        "        year_to_csv(year, all_data)"
      ]
    },
    {
      "cell_type": "code",
      "execution_count": null,
      "id": "185f6a6f",
      "metadata": {
        "tags": [
          "solution"
        ],
        "id": "185f6a6f"
      },
      "outputs": [],
      "source": [
        "# Solution - part 2\n",
        "\n",
        "def csvs_by_year(start_year=None, end_year=None, all_data=None):\n",
        "    \"\"\"\n",
        "    Writes separate CSV files for each year of data.\n",
        "\n",
        "    start_year --- the first year of data we want\n",
        "    end_year --- the last year of data we want\n",
        "    all_data --- DataFrame with multi-year data\n",
        "    \"\"\"\n",
        "    \n",
        "    if all_data is None:\n",
        "        all_data = pd.read_csv(\"surveys.csv\")\n",
        "    \n",
        "    if start_year is None:\n",
        "        start_year = min(all_data.year)\n",
        "        \n",
        "    if end_year is None:\n",
        "        end_year = max(all_data.year)\n",
        "\n",
        "    # \"end_year\" is the last year of data we want to pull, so we loop to end_year+1\n",
        "    for year in range(start_year, end_year+1):\n",
        "        # print(len(all_data[all_data.year == year]))\n",
        "        if len(all_data[all_data.year == year]) > 0:\n",
        "            year_to_csv(year, all_data)\n",
        "        else:\n",
        "            print(\"Skipping: \", year, \" - no data points for this year.\")\n",
        "\n",
        "surveys_df = pd.read_csv(\"surveys.csv\")\n",
        "csvs_by_year(1977, 2002, surveys_df)"
      ]
    },
    {
      "cell_type": "code",
      "execution_count": null,
      "id": "f47204f5",
      "metadata": {
        "tags": [
          "solution"
        ],
        "id": "f47204f5",
        "outputId": "991b23e8-4fbd-43b0-8688-59d6d6123863"
      },
      "outputs": [
        {
          "name": "stdout",
          "output_type": "stream",
          "text": [
            "Processed directory exists:  output\n"
          ]
        }
      ],
      "source": [
        "import os\n",
        "\n",
        "# Solution - part 3\n",
        "def year_to_csv(year=None, all_data=None, output_dir='output'):\n",
        "    \"\"\"\n",
        "    Writes a csv file for data from a given year.\n",
        "\n",
        "    year --- year for which data is extracted\n",
        "    all_data --- DataFrame with multi-year data\n",
        "    output_dir --- the output directory when CSV files will be written\n",
        "    \"\"\"\n",
        "\n",
        "    if all_data is None:\n",
        "        all_data = pd.read_csv(\"surveys.csv\")\n",
        "    \n",
        "    if year is None:\n",
        "        year = min(all_data.year)\n",
        "    \n",
        "    # Select data for the year\n",
        "    surveys_year = all_data[all_data.year == year]\n",
        "\n",
        "\n",
        "    if output_dir in os.listdir('.'):\n",
        "        print('Processed directory exists: ', output_dir)\n",
        "    else:\n",
        "        os.mkdir(output_dir)\n",
        "        print('Processed directory created: ', output_dir)\n",
        "    \n",
        "    # Write the new DataFrame to a csv file\n",
        "    filename = output_dir + '/' + 'function_surveys' + str(year) + '.csv'\n",
        "    # The more correct way to create paths is:\n",
        "    # filename = os.path.join(output_dir, 'function_surveys' + str(year) + '.csv')\n",
        "    surveys_year.to_csv(filename)\n",
        "    \n",
        "year_to_csv(2002, surveys_df)"
      ]
    },
    {
      "cell_type": "code",
      "execution_count": null,
      "id": "10e50344",
      "metadata": {
        "tags": [
          "solution"
        ],
        "id": "10e50344",
        "outputId": "d7aa454e-a198-4c73-e788-4d0a2242e184"
      },
      "outputs": [
        {
          "name": "stdout",
          "output_type": "stream",
          "text": [
            "[1977, 1977, 1977, 1977, 1977, 1977, 1977, 1977, 1977, 1977, 1977, 1977, 1977, 1977, 1977, 1977, 1977, 1977, 1977, 1977]\n",
            "\n",
            "[1977, 1978, 1979, 1980, 1981, 1982, 1983, 1984, 1985, 1986, 1987, 1988, 1989, 1990, 1991, 1992, 1993, 1994, 1995, 1996, 1997, 1998, 1999, 2000, 2001, 2002]\n"
          ]
        }
      ],
      "source": [
        "# Solution - part 4\n",
        "def csvs_by_year(all_data):\n",
        "    \"\"\"\n",
        "    Writes separate CSV files for each year of data.\n",
        "\n",
        "    all_data --- DataFrame with multi-year data\n",
        "    \"\"\"\n",
        "\n",
        "    # We could do this, but missing years will be included in the 'range'\n",
        "    # start_year = min(all_data.year)\n",
        "    # end_year = max(all_data.year)\n",
        "    # year_list = range(start_year, end_year+1)\n",
        "    \n",
        "    # Instead, we create an empty list, then loop over all the rows, adding years\n",
        "    # we haven't seen yet to the list.\n",
        "    year_list = []\n",
        "    for year in surveys_df.year:\n",
        "        if year not in year_list:\n",
        "            year_list.append(year)\n",
        "    \n",
        "    # An elegant alternative is to use a 'set' object.\n",
        "    # A 'set' is a collection where every value is unique - no duplicates.\n",
        "    # This ensures no repeated years and has the advantage of also skipping missing years.\n",
        "    # year_list = set(surveys_df.year)\n",
        "    \n",
        "    # \"end_year\" is the last year of data we want to pull, so we loop to end_year+1\n",
        "    for year in year_list:\n",
        "        year_to_csv(year, all_data)\n",
        "        \n",
        "# The 'list' of years from each row contains duplicates (we just list the first 20 here)\n",
        "print(list(surveys_df.year)[0:20])\n",
        "\n",
        "print()\n",
        "\n",
        "# Making it a 'set' removes duplicates\n",
        "print(list(set(surveys_df.year)))"
      ]
    },
    {
      "cell_type": "markdown",
      "id": "d97394a6",
      "metadata": {
        "id": "d97394a6"
      },
      "source": [
        "<a id='files'></a>\n",
        "# section: 1.2.3: files\n",
        "- navigate file system, working dir \n",
        "- coming in the tables section 1.3.1"
      ]
    },
    {
      "cell_type": "code",
      "execution_count": null,
      "id": "184e2cd2",
      "metadata": {
        "colab": {
          "base_uri": "https://localhost:8080/"
        },
        "id": "184e2cd2",
        "outputId": "bdc6526b-fea8-4c7a-ac7d-d8ef033a4243"
      },
      "outputs": [
        {
          "output_type": "stream",
          "name": "stdout",
          "text": [
            "CurrentDir: /content\n"
          ]
        }
      ],
      "source": [
        "import os\n",
        "\n",
        "print(\"CurrentDir:\", os.getcwd())"
      ]
    },
    {
      "cell_type": "code",
      "source": [
        "# this statement should read utf8 as default and atomatically use fh.close() at end of file\n",
        "with open('some-file.txt') as fh:\n",
        "    lines = fh.readlines()"
      ],
      "metadata": {
        "id": "WkDt5Iyv5E1P"
      },
      "id": "WkDt5Iyv5E1P",
      "execution_count": null,
      "outputs": []
    },
    {
      "cell_type": "code",
      "source": [
        "print(lines)"
      ],
      "metadata": {
        "colab": {
          "base_uri": "https://localhost:8080/"
        },
        "id": "t1zi_Jfv5yZk",
        "outputId": "89ba15cd-4c2e-42f4-b12f-be46aebb067a"
      },
      "id": "t1zi_Jfv5yZk",
      "execution_count": null,
      "outputs": [
        {
          "output_type": "stream",
          "name": "stdout",
          "text": [
            "[\"'The Zen of Python, by Tim Peters'\\n\", '\\n', '\"Beautiful is better than ugly.\\'\\n', '醜いより美しいほうがいい。\\n', 'Explicit is better than implicit.\\n', 'Simple is better than complex.\\n', 'Complex is better than complicated.\\n', 'Flat is better than nested.\\n', 'Sparse is better than dense.\\n', 'Readability counts.\\n', \"Special cases aren't special enough to break the rules.\\n\", 'Although practicality beats purity.\\n', 'Errors should never pass silently.\\n', 'Unless explicitly silenced.\\n', 'In the face of ambiguity, refuse the temptation to guess.\\n', 'There should be one-- and preferably only one --obvious way to do it.\\n', \"Although that way may not be obvious at first unless you're Dutch.\\n\", 'Now is better than never.\\n', 'Although never is often better than *right* now.\\n', \"If the implementation is hard to explain, it's a bad idea.\\n\", 'If the implementation is easy to explain, it may be a good idea.\\n', 'Namespaces are one honking great idea -- let\\'s do more of those!\"\\n']\n"
          ]
        }
      ]
    },
    {
      "cell_type": "code",
      "source": [
        "print(lines[0].strip())"
      ],
      "metadata": {
        "colab": {
          "base_uri": "https://localhost:8080/"
        },
        "id": "OTeXtbvL50f1",
        "outputId": "c2ea2794-9502-4fde-cf54-8d1feeebcb54"
      },
      "id": "OTeXtbvL50f1",
      "execution_count": null,
      "outputs": [
        {
          "output_type": "stream",
          "name": "stdout",
          "text": [
            "'The Zen of Python, by Tim Peters'\n"
          ]
        }
      ]
    },
    {
      "cell_type": "code",
      "source": [
        "import urllib.request  # the lib that handles the url stuff\n",
        "\n",
        "for line in urllib.request.urlopen(\"https://raw.githubusercontent.com/nils-holmberg/cca-cce/main/csv/some-file.txt\"):\n",
        "    print(line.decode('utf-8')) #utf-8 or iso8859-1 or whatever the page encoding scheme is\n"
      ],
      "metadata": {
        "colab": {
          "base_uri": "https://localhost:8080/"
        },
        "id": "bZDVOikZA0N1",
        "outputId": "a56726f5-721d-441f-a239-22a136a9aeb2"
      },
      "id": "bZDVOikZA0N1",
      "execution_count": null,
      "outputs": [
        {
          "output_type": "stream",
          "name": "stdout",
          "text": [
            "# datasets\n",
            "\n",
            "\n",
            "\n",
            "\n",
            "\n",
            "\n",
            "\n",
            "\n",
            "\n",
            "\n",
            "\n",
            "\n",
            "\n",
            "\n",
            "\n"
          ]
        }
      ]
    },
    {
      "cell_type": "code",
      "source": [],
      "metadata": {
        "id": "COu2492gBhHa"
      },
      "id": "COu2492gBhHa",
      "execution_count": null,
      "outputs": []
    }
  ],
  "metadata": {
    "kernelspec": {
      "display_name": "Python 3.10.6 64-bit",
      "language": "python",
      "name": "python3"
    },
    "language_info": {
      "codemirror_mode": {
        "name": "ipython",
        "version": 3
      },
      "file_extension": ".py",
      "mimetype": "text/x-python",
      "name": "python",
      "nbconvert_exporter": "python",
      "pygments_lexer": "ipython3",
      "version": "3.10.6"
    },
    "vscode": {
      "interpreter": {
        "hash": "916dbcbb3f70747c44a77c7bcd40155683ae19c65e1c03b4aa3499c5328201f1"
      }
    },
    "colab": {
      "provenance": [],
      "collapsed_sections": [
        "20d50fc2",
        "4012d9c4",
        "6f207891",
        "5c211c7d",
        "a72ad1fd",
        "bbd22ac7",
        "10a3ad2b",
        "c351d966",
        "af29f0b7",
        "f475ca76",
        "7d266b02",
        "0410f600",
        "b5011d37",
        "a98e523b",
        "c07bedf2",
        "102a3b0a",
        "89ac5e44",
        "a58bb559",
        "1e16b8fa",
        "6ee4d4a2",
        "d9ec43e2",
        "ba571e46",
        "2f0d2470",
        "893544dd",
        "968523b7",
        "b9831cb0",
        "e89fd8d0",
        "33e70674",
        "330d0e68",
        "cdf453aa",
        "f7c23148",
        "86909a76",
        "b21daade",
        "b0825567",
        "7ddc8d17",
        "8f64a6ae",
        "e1f38ff4"
      ]
    }
  },
  "nbformat": 4,
  "nbformat_minor": 5
}