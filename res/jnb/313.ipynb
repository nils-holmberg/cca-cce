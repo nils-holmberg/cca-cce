{
  "nbformat": 4,
  "nbformat_minor": 0,
  "metadata": {
    "colab": {
      "provenance": [],
      "collapsed_sections": []
    },
    "kernelspec": {
      "name": "python3",
      "display_name": "Python 3"
    },
    "language_info": {
      "name": "python"
    }
  },
  "cells": [
    {
      "cell_type": "code",
      "execution_count": null,
      "metadata": {
        "id": "Hs0wfPdqR-8D"
      },
      "outputs": [],
      "source": [
        "# challenge: write a function that can tokenize a string variable\n"
      ]
    },
    {
      "cell_type": "code",
      "source": [
        "def some_function(some_argument):\n",
        "  return some_argument\n",
        "  print(\"hello function\", some_argument)\n",
        "\n",
        "some_function(\"with argument\")"
      ],
      "metadata": {
        "id": "yS9VekgqSRit",
        "colab": {
          "base_uri": "https://localhost:8080/",
          "height": 39
        },
        "outputId": "d748b252-5cda-4b58-fd1f-55c60b40bcf3"
      },
      "execution_count": 4,
      "outputs": [
        {
          "output_type": "execute_result",
          "data": {
            "text/plain": [
              "'with argument'"
            ],
            "application/vnd.google.colaboratory.intrinsic+json": {
              "type": "string"
            }
          },
          "metadata": {},
          "execution_count": 4
        }
      ]
    },
    {
      "cell_type": "code",
      "source": [],
      "metadata": {
        "id": "JQfZBLLPECjg"
      },
      "execution_count": null,
      "outputs": []
    }
  ]
}